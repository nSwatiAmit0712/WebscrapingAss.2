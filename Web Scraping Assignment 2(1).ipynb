{
 "cells": [
  {
   "cell_type": "code",
   "execution_count": 1,
   "id": "668a868f",
   "metadata": {},
   "outputs": [
    {
     "name": "stdout",
     "output_type": "stream",
     "text": [
      "Requirement already satisfied: selenium in c:\\users\\swati\\anaconda3\\lib\\site-packages (4.4.3)\n",
      "Requirement already satisfied: trio~=0.17 in c:\\users\\swati\\anaconda3\\lib\\site-packages (from selenium) (0.21.0)\n",
      "Requirement already satisfied: certifi>=2021.10.8 in c:\\users\\swati\\anaconda3\\lib\\site-packages (from selenium) (2021.10.8)\n",
      "Requirement already satisfied: urllib3[socks]~=1.26 in c:\\users\\swati\\anaconda3\\lib\\site-packages (from selenium) (1.26.9)\n",
      "Requirement already satisfied: trio-websocket~=0.9 in c:\\users\\swati\\anaconda3\\lib\\site-packages (from selenium) (0.9.2)\n",
      "Requirement already satisfied: idna in c:\\users\\swati\\anaconda3\\lib\\site-packages (from trio~=0.17->selenium) (3.3)\n",
      "Requirement already satisfied: async-generator>=1.9 in c:\\users\\swati\\anaconda3\\lib\\site-packages (from trio~=0.17->selenium) (1.10)\n",
      "Requirement already satisfied: outcome in c:\\users\\swati\\anaconda3\\lib\\site-packages (from trio~=0.17->selenium) (1.2.0)\n",
      "Requirement already satisfied: cffi>=1.14 in c:\\users\\swati\\anaconda3\\lib\\site-packages (from trio~=0.17->selenium) (1.15.0)\n",
      "Requirement already satisfied: sortedcontainers in c:\\users\\swati\\anaconda3\\lib\\site-packages (from trio~=0.17->selenium) (2.4.0)\n",
      "Requirement already satisfied: attrs>=19.2.0 in c:\\users\\swati\\anaconda3\\lib\\site-packages (from trio~=0.17->selenium) (21.4.0)\n",
      "Requirement already satisfied: sniffio in c:\\users\\swati\\anaconda3\\lib\\site-packages (from trio~=0.17->selenium) (1.2.0)\n",
      "Requirement already satisfied: pycparser in c:\\users\\swati\\anaconda3\\lib\\site-packages (from cffi>=1.14->trio~=0.17->selenium) (2.21)\n",
      "Requirement already satisfied: wsproto>=0.14 in c:\\users\\swati\\anaconda3\\lib\\site-packages (from trio-websocket~=0.9->selenium) (1.2.0)\n",
      "Requirement already satisfied: PySocks!=1.5.7,<2.0,>=1.5.6 in c:\\users\\swati\\anaconda3\\lib\\site-packages (from urllib3[socks]~=1.26->selenium) (1.7.1)\n",
      "Requirement already satisfied: h11<1,>=0.9.0 in c:\\users\\swati\\anaconda3\\lib\\site-packages (from wsproto>=0.14->trio-websocket~=0.9->selenium) (0.13.0)\n"
     ]
    }
   ],
   "source": [
    "!pip install selenium"
   ]
  },
  {
   "cell_type": "code",
   "execution_count": 2,
   "id": "9f2f654e",
   "metadata": {},
   "outputs": [],
   "source": [
    "import selenium\n",
    "import pandas as pd\n",
    "from selenium import webdriver\n",
    "import warnings\n",
    "warnings.filterwarnings('ignore')\n",
    "from selenium.common.exceptions import StaleElementReferenceException,NoSuchElementException\n",
    "from selenium.webdriver.common.by import By\n",
    "import time"
   ]
  },
  {
   "cell_type": "markdown",
   "id": "595d38ac",
   "metadata": {},
   "source": [
    "# Q.1. "
   ]
  },
  {
   "cell_type": "code",
   "execution_count": 129,
   "id": "c5c08432",
   "metadata": {},
   "outputs": [],
   "source": [
    "driver = webdriver.Chrome(r\"C:\\Users\\Swati\\OneDrive\\Desktop\\DataScience\\chromedriver.exe\")"
   ]
  },
  {
   "cell_type": "code",
   "execution_count": 130,
   "id": "fff84a5a",
   "metadata": {
    "scrolled": true
   },
   "outputs": [],
   "source": [
    "driver.get(\"https://www.naukri.com/\")"
   ]
  },
  {
   "cell_type": "code",
   "execution_count": 131,
   "id": "cf5677cd",
   "metadata": {},
   "outputs": [],
   "source": [
    "# Entering designation and location Banglore as required in question\n",
    "designation = driver.find_element(By.CLASS_NAME,\"suggestor-input\")\n",
    "designation.send_keys('Data Analyst')"
   ]
  },
  {
   "cell_type": "code",
   "execution_count": 132,
   "id": "681f8a8f",
   "metadata": {},
   "outputs": [],
   "source": [
    "location = driver.find_element(By.XPATH,\"/html/body/div[1]/div[6]/div/div/div[5]/div/div/div/input\")\n",
    "location.send_keys('Bengalore')"
   ]
  },
  {
   "cell_type": "code",
   "execution_count": 133,
   "id": "ea90e842",
   "metadata": {},
   "outputs": [],
   "source": [
    "search = driver.find_element(By.CLASS_NAME,\"qsbSubmit\")\n",
    "search.click()"
   ]
  },
  {
   "cell_type": "code",
   "execution_count": 134,
   "id": "eedd20e9",
   "metadata": {},
   "outputs": [],
   "source": [
    "job_title = []\n",
    "job_location = []\n",
    "company_name = []\n",
    "exp_required = []"
   ]
  },
  {
   "cell_type": "code",
   "execution_count": 135,
   "id": "aacc9891",
   "metadata": {},
   "outputs": [],
   "source": [
    "# Scraping job title from the given page\n",
    "title_tags = driver.find_elements(By.XPATH,'//a[@class=\"title fw500 ellipsis\"]')\n",
    "for i in title_tags [0:10]:\n",
    "    title = i.text\n",
    "    job_title.append(title)\n",
    "    \n",
    "# Scraping Job location \n",
    "location_tags = driver.find_elements(By.XPATH,'//li[@class=\"fleft grey-text br2 placeHolderLi location\"]')\n",
    "for i in location_tags [0:10]:\n",
    "    location = i.text\n",
    "    job_location.append(location)\n",
    "    \n",
    "# Scraping Company name\n",
    "company_tags = driver.find_elements(By.XPATH,'//a[@class=\"subTitle ellipsis fleft\"]')\n",
    "for i in company_tags [0:10]:\n",
    "    company = i.text\n",
    "    company_name.append(company)\n",
    "    \n",
    "# Scraping Experience\n",
    "exp_tags = driver.find_elements(By.XPATH,'//li[@class=\"fleft grey-text br2 placeHolderLi experience\"]')\n",
    "for i in exp_tags [0:10]:\n",
    "    exp = i.text\n",
    "    exp_required.append(exp)"
   ]
  },
  {
   "cell_type": "code",
   "execution_count": 136,
   "id": "7f74bb1f",
   "metadata": {},
   "outputs": [
    {
     "name": "stdout",
     "output_type": "stream",
     "text": [
      "10 10 10 10\n"
     ]
    }
   ],
   "source": [
    "print(len(job_title),len(job_location),len(company_name),len(exp_required))"
   ]
  },
  {
   "cell_type": "code",
   "execution_count": 138,
   "id": "7b4419d7",
   "metadata": {},
   "outputs": [
    {
     "data": {
      "text/html": [
       "<div>\n",
       "<style scoped>\n",
       "    .dataframe tbody tr th:only-of-type {\n",
       "        vertical-align: middle;\n",
       "    }\n",
       "\n",
       "    .dataframe tbody tr th {\n",
       "        vertical-align: top;\n",
       "    }\n",
       "\n",
       "    .dataframe thead th {\n",
       "        text-align: right;\n",
       "    }\n",
       "</style>\n",
       "<table border=\"1\" class=\"dataframe\">\n",
       "  <thead>\n",
       "    <tr style=\"text-align: right;\">\n",
       "      <th></th>\n",
       "      <th>Job_title</th>\n",
       "      <th>Job_location</th>\n",
       "      <th>Company</th>\n",
       "      <th>Experience_Requirede</th>\n",
       "    </tr>\n",
       "  </thead>\n",
       "  <tbody>\n",
       "    <tr>\n",
       "      <th>0</th>\n",
       "      <td>HCL hiring For Data Analyst</td>\n",
       "      <td>Pune, Chennai, Bangalore/Bengaluru</td>\n",
       "      <td>HCL Technologies</td>\n",
       "      <td>3-8 Yrs</td>\n",
       "    </tr>\n",
       "    <tr>\n",
       "      <th>1</th>\n",
       "      <td>Contractual Hiring For Top MNC || Business Dat...</td>\n",
       "      <td>Bangalore/Bengaluru</td>\n",
       "      <td>TeamLease</td>\n",
       "      <td>5-8 Yrs</td>\n",
       "    </tr>\n",
       "    <tr>\n",
       "      <th>2</th>\n",
       "      <td>Programmer / Data Analyst</td>\n",
       "      <td>Kolkata, Hyderabad/Secunderabad, Pune, Ahmedab...</td>\n",
       "      <td>Frost &amp; Sullivan</td>\n",
       "      <td>3-7 Yrs</td>\n",
       "    </tr>\n",
       "    <tr>\n",
       "      <th>3</th>\n",
       "      <td>Data Analyst - Python/Artificial Intelligence</td>\n",
       "      <td>Kolkata, Mumbai, Hyderabad/Secunderabad, Luckn...</td>\n",
       "      <td>iMindYourBusiness</td>\n",
       "      <td>0-2 Yrs</td>\n",
       "    </tr>\n",
       "    <tr>\n",
       "      <th>4</th>\n",
       "      <td>Customer Data Analyst</td>\n",
       "      <td>Bangalore/Bengaluru</td>\n",
       "      <td>Oracle</td>\n",
       "      <td>1-3 Yrs</td>\n",
       "    </tr>\n",
       "    <tr>\n",
       "      <th>5</th>\n",
       "      <td>Sr. Data Analyst</td>\n",
       "      <td>Pune, Bangalore/Bengaluru</td>\n",
       "      <td>Global Indian School Education Services</td>\n",
       "      <td>6-11 Yrs</td>\n",
       "    </tr>\n",
       "    <tr>\n",
       "      <th>6</th>\n",
       "      <td>Data Analyst - Decision Science</td>\n",
       "      <td>Bangalore/Bengaluru</td>\n",
       "      <td>Jana Small Finance Bank</td>\n",
       "      <td>3-8 Yrs</td>\n",
       "    </tr>\n",
       "    <tr>\n",
       "      <th>7</th>\n",
       "      <td>Immediate opening For Data Analyst @ Bangalore</td>\n",
       "      <td>Bangalore/Bengaluru</td>\n",
       "      <td>TeamLease</td>\n",
       "      <td>4-6 Yrs</td>\n",
       "    </tr>\n",
       "    <tr>\n",
       "      <th>8</th>\n",
       "      <td>Associate Data Analyst</td>\n",
       "      <td>Bangalore/Bengaluru</td>\n",
       "      <td>Optum</td>\n",
       "      <td>2-7 Yrs</td>\n",
       "    </tr>\n",
       "    <tr>\n",
       "      <th>9</th>\n",
       "      <td>Associate Data Analyst</td>\n",
       "      <td>Bangalore/Bengaluru</td>\n",
       "      <td>Optum</td>\n",
       "      <td>1-4 Yrs</td>\n",
       "    </tr>\n",
       "  </tbody>\n",
       "</table>\n",
       "</div>"
      ],
      "text/plain": [
       "                                           Job_title  \\\n",
       "0                        HCL hiring For Data Analyst   \n",
       "1  Contractual Hiring For Top MNC || Business Dat...   \n",
       "2                          Programmer / Data Analyst   \n",
       "3      Data Analyst - Python/Artificial Intelligence   \n",
       "4                              Customer Data Analyst   \n",
       "5                                   Sr. Data Analyst   \n",
       "6                    Data Analyst - Decision Science   \n",
       "7     Immediate opening For Data Analyst @ Bangalore   \n",
       "8                             Associate Data Analyst   \n",
       "9                             Associate Data Analyst   \n",
       "\n",
       "                                        Job_location  \\\n",
       "0                 Pune, Chennai, Bangalore/Bengaluru   \n",
       "1                                Bangalore/Bengaluru   \n",
       "2  Kolkata, Hyderabad/Secunderabad, Pune, Ahmedab...   \n",
       "3  Kolkata, Mumbai, Hyderabad/Secunderabad, Luckn...   \n",
       "4                                Bangalore/Bengaluru   \n",
       "5                          Pune, Bangalore/Bengaluru   \n",
       "6                                Bangalore/Bengaluru   \n",
       "7                                Bangalore/Bengaluru   \n",
       "8                                Bangalore/Bengaluru   \n",
       "9                                Bangalore/Bengaluru   \n",
       "\n",
       "                                   Company Experience_Requirede  \n",
       "0                         HCL Technologies              3-8 Yrs  \n",
       "1                                TeamLease              5-8 Yrs  \n",
       "2                         Frost & Sullivan              3-7 Yrs  \n",
       "3                        iMindYourBusiness              0-2 Yrs  \n",
       "4                                   Oracle              1-3 Yrs  \n",
       "5  Global Indian School Education Services             6-11 Yrs  \n",
       "6                  Jana Small Finance Bank              3-8 Yrs  \n",
       "7                                TeamLease              4-6 Yrs  \n",
       "8                                    Optum              2-7 Yrs  \n",
       "9                                    Optum              1-4 Yrs  "
      ]
     },
     "execution_count": 138,
     "metadata": {},
     "output_type": "execute_result"
    }
   ],
   "source": [
    "data = pd.DataFrame({'Job_title':job_title,'Job_location':job_location,'Company':company_name,'Experience_Requirede':exp_required})\n",
    "data"
   ]
  },
  {
   "cell_type": "markdown",
   "id": "faaef508",
   "metadata": {},
   "source": [
    "# Q.2."
   ]
  },
  {
   "cell_type": "code",
   "execution_count": 147,
   "id": "632a38b4",
   "metadata": {},
   "outputs": [],
   "source": [
    "driver = webdriver.Chrome(r\"C:\\Users\\Swati\\OneDrive\\Desktop\\DataScience\\chromedriver.exe\")"
   ]
  },
  {
   "cell_type": "code",
   "execution_count": 148,
   "id": "a91efe0e",
   "metadata": {},
   "outputs": [],
   "source": [
    "driver.get(\"https://www.naukri.com/\")"
   ]
  },
  {
   "cell_type": "code",
   "execution_count": 149,
   "id": "84ac2dde",
   "metadata": {},
   "outputs": [],
   "source": [
    "# Entering designation and location Banglore as required in question\n",
    "designation = driver.find_element(By.CLASS_NAME,\"suggestor-input\")\n",
    "designation.send_keys('Data Scientist')"
   ]
  },
  {
   "cell_type": "code",
   "execution_count": 150,
   "id": "b9f2cd6d",
   "metadata": {},
   "outputs": [],
   "source": [
    "location = driver.find_element(By.XPATH,\"/html/body/div[1]/div[6]/div/div/div[5]/div/div/div/input\")\n",
    "location.send_keys('Bengalore')"
   ]
  },
  {
   "cell_type": "code",
   "execution_count": 151,
   "id": "2889f45a",
   "metadata": {},
   "outputs": [],
   "source": [
    "search = driver.find_element(By.CLASS_NAME,\"qsbSubmit\")\n",
    "search.click()"
   ]
  },
  {
   "cell_type": "code",
   "execution_count": 152,
   "id": "e09e93a7",
   "metadata": {},
   "outputs": [],
   "source": [
    "job_title = []\n",
    "job_location = []\n",
    "company_name = []\n",
    "exp_required = []"
   ]
  },
  {
   "cell_type": "code",
   "execution_count": 153,
   "id": "16e1ed11",
   "metadata": {},
   "outputs": [],
   "source": [
    "# Scraping job title from the given page\n",
    "title_tags = driver.find_elements(By.XPATH,'//a[@class=\"title fw500 ellipsis\"]')\n",
    "for i in title_tags [0:10]:\n",
    "    title = i.text\n",
    "    job_title.append(title)\n",
    "    \n",
    "# Scraping Job location \n",
    "location_tags = driver.find_elements(By.XPATH,'//li[@class=\"fleft grey-text br2 placeHolderLi location\"]')\n",
    "for i in location_tags [0:10]:\n",
    "    location = i.text\n",
    "    job_location.append(location)\n",
    "    \n",
    "# Scraping Company name\n",
    "company_tags = driver.find_elements(By.XPATH,'//a[@class=\"subTitle ellipsis fleft\"]')\n",
    "for i in company_tags [0:10]:\n",
    "    company = i.text\n",
    "    company_name.append(company)\n",
    "    \n",
    "# Scraping Experience\n",
    "exp_tags = driver.find_elements(By.XPATH,'//li[@class=\"fleft grey-text br2 placeHolderLi experience\"]')\n",
    "for i in exp_tags [0:10]:\n",
    "    exp = i.text\n",
    "    exp_required.append(exp)"
   ]
  },
  {
   "cell_type": "code",
   "execution_count": 154,
   "id": "d1ef8e5c",
   "metadata": {},
   "outputs": [
    {
     "name": "stdout",
     "output_type": "stream",
     "text": [
      "10 10 10 10\n"
     ]
    }
   ],
   "source": [
    "print(len(job_title),len(job_location),len(company_name),len(exp_required))"
   ]
  },
  {
   "cell_type": "code",
   "execution_count": 155,
   "id": "00699fde",
   "metadata": {},
   "outputs": [
    {
     "data": {
      "text/html": [
       "<div>\n",
       "<style scoped>\n",
       "    .dataframe tbody tr th:only-of-type {\n",
       "        vertical-align: middle;\n",
       "    }\n",
       "\n",
       "    .dataframe tbody tr th {\n",
       "        vertical-align: top;\n",
       "    }\n",
       "\n",
       "    .dataframe thead th {\n",
       "        text-align: right;\n",
       "    }\n",
       "</style>\n",
       "<table border=\"1\" class=\"dataframe\">\n",
       "  <thead>\n",
       "    <tr style=\"text-align: right;\">\n",
       "      <th></th>\n",
       "      <th>Job_title</th>\n",
       "      <th>Job_location</th>\n",
       "      <th>Company</th>\n",
       "      <th>Experience_Requirede</th>\n",
       "    </tr>\n",
       "  </thead>\n",
       "  <tbody>\n",
       "    <tr>\n",
       "      <th>0</th>\n",
       "      <td>Job Opportunity on Data Science_ Python with T...</td>\n",
       "      <td>Kolkata, Hyderabad/Secunderabad, Pune, Chennai...</td>\n",
       "      <td>Tech Mahindra</td>\n",
       "      <td>4-9 Yrs</td>\n",
       "    </tr>\n",
       "    <tr>\n",
       "      <th>1</th>\n",
       "      <td>Assistant Manager - Data Science</td>\n",
       "      <td>Mumbai, Pune, Bangalore/Bengaluru</td>\n",
       "      <td>CitiusTech</td>\n",
       "      <td>5-9 Yrs</td>\n",
       "    </tr>\n",
       "    <tr>\n",
       "      <th>2</th>\n",
       "      <td>Analystics &amp; Modeling Specialist</td>\n",
       "      <td>Kolkata, Mumbai, Hyderabad/Secunderabad, Pune,...</td>\n",
       "      <td>Accenture</td>\n",
       "      <td>6-8 Yrs</td>\n",
       "    </tr>\n",
       "    <tr>\n",
       "      <th>3</th>\n",
       "      <td>Hiring For DATA Scientist @ NTT DATA Business ...</td>\n",
       "      <td>Noida, Hyderabad/Secunderabad, Pune, Gurgaon/G...</td>\n",
       "      <td>NTT DATA Business Solutions Private Limited</td>\n",
       "      <td>4-9 Yrs</td>\n",
       "    </tr>\n",
       "    <tr>\n",
       "      <th>4</th>\n",
       "      <td>Data Scientist/AIML Engineer</td>\n",
       "      <td>Mumbai, Hyderabad/Secunderabad, Bangalore/Beng...</td>\n",
       "      <td>upGrad</td>\n",
       "      <td>0-2 Yrs</td>\n",
       "    </tr>\n",
       "    <tr>\n",
       "      <th>5</th>\n",
       "      <td>Data Science Consultant</td>\n",
       "      <td>Pune, Gurgaon/Gurugram, Bangalore/Bengaluru</td>\n",
       "      <td>ZS Associates India Pvt Ltd</td>\n",
       "      <td>3-8 Yrs</td>\n",
       "    </tr>\n",
       "    <tr>\n",
       "      <th>6</th>\n",
       "      <td>Data Scientist</td>\n",
       "      <td>Noida, Nagpur, Bangalore/Bengaluru</td>\n",
       "      <td>GlobalLogic</td>\n",
       "      <td>8-10 Yrs</td>\n",
       "    </tr>\n",
       "    <tr>\n",
       "      <th>7</th>\n",
       "      <td>Data Scientist</td>\n",
       "      <td>Bangalore/Bengaluru</td>\n",
       "      <td>GlobalLogic</td>\n",
       "      <td>8-9 Yrs</td>\n",
       "    </tr>\n",
       "    <tr>\n",
       "      <th>8</th>\n",
       "      <td>Lead ML Scientist</td>\n",
       "      <td>Mumbai, Bangalore/Bengaluru</td>\n",
       "      <td>Fractal Analytics</td>\n",
       "      <td>6-10 Yrs</td>\n",
       "    </tr>\n",
       "    <tr>\n",
       "      <th>9</th>\n",
       "      <td>Tcs Hiring For Data Scientist</td>\n",
       "      <td>Chennai, Bangalore/Bengaluru, Mumbai (All Areas)</td>\n",
       "      <td>TATA CONSULTANCY SERVICES (TCS)</td>\n",
       "      <td>3-8 Yrs</td>\n",
       "    </tr>\n",
       "  </tbody>\n",
       "</table>\n",
       "</div>"
      ],
      "text/plain": [
       "                                           Job_title  \\\n",
       "0  Job Opportunity on Data Science_ Python with T...   \n",
       "1                   Assistant Manager - Data Science   \n",
       "2                   Analystics & Modeling Specialist   \n",
       "3  Hiring For DATA Scientist @ NTT DATA Business ...   \n",
       "4                       Data Scientist/AIML Engineer   \n",
       "5                            Data Science Consultant   \n",
       "6                                     Data Scientist   \n",
       "7                                     Data Scientist   \n",
       "8                                  Lead ML Scientist   \n",
       "9                      Tcs Hiring For Data Scientist   \n",
       "\n",
       "                                        Job_location  \\\n",
       "0  Kolkata, Hyderabad/Secunderabad, Pune, Chennai...   \n",
       "1                  Mumbai, Pune, Bangalore/Bengaluru   \n",
       "2  Kolkata, Mumbai, Hyderabad/Secunderabad, Pune,...   \n",
       "3  Noida, Hyderabad/Secunderabad, Pune, Gurgaon/G...   \n",
       "4  Mumbai, Hyderabad/Secunderabad, Bangalore/Beng...   \n",
       "5        Pune, Gurgaon/Gurugram, Bangalore/Bengaluru   \n",
       "6                 Noida, Nagpur, Bangalore/Bengaluru   \n",
       "7                                Bangalore/Bengaluru   \n",
       "8                        Mumbai, Bangalore/Bengaluru   \n",
       "9   Chennai, Bangalore/Bengaluru, Mumbai (All Areas)   \n",
       "\n",
       "                                       Company Experience_Requirede  \n",
       "0                                Tech Mahindra              4-9 Yrs  \n",
       "1                                   CitiusTech              5-9 Yrs  \n",
       "2                                    Accenture              6-8 Yrs  \n",
       "3  NTT DATA Business Solutions Private Limited              4-9 Yrs  \n",
       "4                                       upGrad              0-2 Yrs  \n",
       "5                  ZS Associates India Pvt Ltd              3-8 Yrs  \n",
       "6                                  GlobalLogic             8-10 Yrs  \n",
       "7                                  GlobalLogic              8-9 Yrs  \n",
       "8                            Fractal Analytics             6-10 Yrs  \n",
       "9              TATA CONSULTANCY SERVICES (TCS)              3-8 Yrs  "
      ]
     },
     "execution_count": 155,
     "metadata": {},
     "output_type": "execute_result"
    }
   ],
   "source": [
    "data = pd.DataFrame({'Job_title':job_title,'Job_location':job_location,'Company':company_name,'Experience_Requirede':exp_required})\n",
    "data"
   ]
  },
  {
   "cell_type": "markdown",
   "id": "5c2e082d",
   "metadata": {},
   "source": [
    "# Q.3."
   ]
  },
  {
   "cell_type": "code",
   "execution_count": 3,
   "id": "75fc4850",
   "metadata": {},
   "outputs": [],
   "source": [
    "driver = webdriver.Chrome(r\"C:\\Users\\Swati\\OneDrive\\Desktop\\DataScience\\chromedriver.exe\")"
   ]
  },
  {
   "cell_type": "code",
   "execution_count": 4,
   "id": "517de1e8",
   "metadata": {},
   "outputs": [],
   "source": [
    "driver.get(\"https://www.naukri.com/\")"
   ]
  },
  {
   "cell_type": "code",
   "execution_count": 5,
   "id": "d8e2a739",
   "metadata": {},
   "outputs": [],
   "source": [
    "designation = driver.find_element(By.CLASS_NAME,\"suggestor-input \")\n",
    "designation.send_keys('Data Scientist')"
   ]
  },
  {
   "cell_type": "code",
   "execution_count": 6,
   "id": "d4295596",
   "metadata": {},
   "outputs": [],
   "source": [
    "search = driver.find_element(By.CLASS_NAME,\"qsbSubmit\")\n",
    "search.click()"
   ]
  },
  {
   "cell_type": "code",
   "execution_count": 7,
   "id": "8a25969d",
   "metadata": {},
   "outputs": [],
   "source": [
    "filter_button = driver.find_elements(By.XPATH,'citiesGid')\n",
    "for i in filter_button:\n",
    "    if i.text == \"Delhi / NCR\":\n",
    "        i.click()\n",
    "        break\n",
    "        \n",
    "filter_button = driver.find_elements(By.ID,'salaryRange')\n",
    "for i in filter_button:\n",
    "    if i.text == \"3-6 Lakhs\":\n",
    "        i.click()\n",
    "        break        \n"
   ]
  },
  {
   "cell_type": "code",
   "execution_count": 135,
   "id": "58f4f15f",
   "metadata": {},
   "outputs": [],
   "source": [
    "Title = []\n",
    "Location = []\n",
    "Company = []\n",
    "Exp_Required= []"
   ]
  },
  {
   "cell_type": "code",
   "execution_count": 138,
   "id": "932b679a",
   "metadata": {},
   "outputs": [
    {
     "data": {
      "text/plain": [
       "['8-10 Yrs',\n",
       " '2-5 Yrs',\n",
       " '2-7 Yrs',\n",
       " '3-7 Yrs',\n",
       " '7-10 Yrs',\n",
       " '1-6 Yrs',\n",
       " '2-4 Yrs',\n",
       " '2-4 Yrs',\n",
       " '2-7 Yrs',\n",
       " '2-5 Yrs']"
      ]
     },
     "execution_count": 138,
     "metadata": {},
     "output_type": "execute_result"
    }
   ],
   "source": [
    "# Scraping job title from the given page\n",
    "title = driver.find_elements(By.XPATH,'//a[@class=\"title fw500 ellipsis\"]')\n",
    "for i in title:\n",
    "    Title.append(i.text)\n",
    "Title[:10] \n",
    "\n",
    "# Scraping Job location \n",
    "location = driver.find_elements(By.XPATH,'//li[@class=\"fleft grey-text br2 placeHolderLi location\"]')\n",
    "for i in location:\n",
    "    Location.append(i.text)\n",
    "Location[:10]   \n",
    "    \n",
    "# Scraping Company name\n",
    "company = driver.find_elements(By.XPATH,'//a[@class=\"subTitle ellipsis fleft\"]')\n",
    "for i in company:\n",
    "    Company.append(i.text)\n",
    "Company[:10]\n",
    "    \n",
    "# Scraping Experience\n",
    "exp = driver.find_elements(By.XPATH,'//li[@class=\"fleft grey-text br2 placeHolderLi experience\"]')\n",
    "for i in exp:\n",
    "    Exp_Required.append(i.text)\n",
    "Exp_Required[:10]"
   ]
  },
  {
   "cell_type": "code",
   "execution_count": 141,
   "id": "6e033ada",
   "metadata": {},
   "outputs": [
    {
     "name": "stdout",
     "output_type": "stream",
     "text": [
      "10 10 10 10\n"
     ]
    }
   ],
   "source": [
    "print(len(Title[:10]),len(Location[:10]),len(Company[:10]),len(Exp_Required[:10]))"
   ]
  },
  {
   "cell_type": "code",
   "execution_count": 142,
   "id": "5d9747b0",
   "metadata": {},
   "outputs": [
    {
     "data": {
      "text/html": [
       "<div>\n",
       "<style scoped>\n",
       "    .dataframe tbody tr th:only-of-type {\n",
       "        vertical-align: middle;\n",
       "    }\n",
       "\n",
       "    .dataframe tbody tr th {\n",
       "        vertical-align: top;\n",
       "    }\n",
       "\n",
       "    .dataframe thead th {\n",
       "        text-align: right;\n",
       "    }\n",
       "</style>\n",
       "<table border=\"1\" class=\"dataframe\">\n",
       "  <thead>\n",
       "    <tr style=\"text-align: right;\">\n",
       "      <th></th>\n",
       "      <th>Title</th>\n",
       "      <th>Location</th>\n",
       "      <th>Company</th>\n",
       "      <th>Exp_Required</th>\n",
       "    </tr>\n",
       "  </thead>\n",
       "  <tbody>\n",
       "    <tr>\n",
       "      <th>0</th>\n",
       "      <td>Data Scientist</td>\n",
       "      <td>Noida, Nagpur, Bangalore/Bengaluru</td>\n",
       "      <td>GlobalLogic</td>\n",
       "      <td>8-10 Yrs</td>\n",
       "    </tr>\n",
       "    <tr>\n",
       "      <th>1</th>\n",
       "      <td>DigitalBCG GAMMA Data Scientist</td>\n",
       "      <td>New Delhi, Bangalore/Bengaluru</td>\n",
       "      <td>Boston Consulting Group</td>\n",
       "      <td>2-5 Yrs</td>\n",
       "    </tr>\n",
       "    <tr>\n",
       "      <th>2</th>\n",
       "      <td>Data Scientist</td>\n",
       "      <td>Gurgaon/Gurugram</td>\n",
       "      <td>Optum</td>\n",
       "      <td>2-7 Yrs</td>\n",
       "    </tr>\n",
       "    <tr>\n",
       "      <th>3</th>\n",
       "      <td>Data Scientist / Chat-bot Developer</td>\n",
       "      <td>New Delhi, Bangalore/Bengaluru, Mumbai (All Ar...</td>\n",
       "      <td>Big Seo Buzz</td>\n",
       "      <td>3-7 Yrs</td>\n",
       "    </tr>\n",
       "    <tr>\n",
       "      <th>4</th>\n",
       "      <td>Lead Data Scientist</td>\n",
       "      <td>Noida(Sector-59 Noida)\\n(WFH during Covid)</td>\n",
       "      <td>R Systems International</td>\n",
       "      <td>7-10 Yrs</td>\n",
       "    </tr>\n",
       "    <tr>\n",
       "      <th>5</th>\n",
       "      <td>Data Scientist - Predictive Analytics</td>\n",
       "      <td>Noida, Mumbai, Chandigarh, Hyderabad/Secundera...</td>\n",
       "      <td>Confidential</td>\n",
       "      <td>1-6 Yrs</td>\n",
       "    </tr>\n",
       "    <tr>\n",
       "      <th>6</th>\n",
       "      <td>Data Scientist</td>\n",
       "      <td>Gurgaon/Gurugram</td>\n",
       "      <td>Feedback Infra</td>\n",
       "      <td>2-4 Yrs</td>\n",
       "    </tr>\n",
       "    <tr>\n",
       "      <th>7</th>\n",
       "      <td>Data Scientist</td>\n",
       "      <td>Noida</td>\n",
       "      <td>4i Odc</td>\n",
       "      <td>2-4 Yrs</td>\n",
       "    </tr>\n",
       "    <tr>\n",
       "      <th>8</th>\n",
       "      <td>Data Scientist, Associate</td>\n",
       "      <td>Delhi / NCR</td>\n",
       "      <td>NatWest Group</td>\n",
       "      <td>2-7 Yrs</td>\n",
       "    </tr>\n",
       "    <tr>\n",
       "      <th>9</th>\n",
       "      <td>Jr. Data Scientist</td>\n",
       "      <td>Noida</td>\n",
       "      <td>Dataflow</td>\n",
       "      <td>2-5 Yrs</td>\n",
       "    </tr>\n",
       "  </tbody>\n",
       "</table>\n",
       "</div>"
      ],
      "text/plain": [
       "                                   Title  \\\n",
       "0                         Data Scientist   \n",
       "1        DigitalBCG GAMMA Data Scientist   \n",
       "2                         Data Scientist   \n",
       "3    Data Scientist / Chat-bot Developer   \n",
       "4                    Lead Data Scientist   \n",
       "5  Data Scientist - Predictive Analytics   \n",
       "6                         Data Scientist   \n",
       "7                         Data Scientist   \n",
       "8              Data Scientist, Associate   \n",
       "9                     Jr. Data Scientist   \n",
       "\n",
       "                                            Location                  Company  \\\n",
       "0                 Noida, Nagpur, Bangalore/Bengaluru              GlobalLogic   \n",
       "1                     New Delhi, Bangalore/Bengaluru  Boston Consulting Group   \n",
       "2                                   Gurgaon/Gurugram                    Optum   \n",
       "3  New Delhi, Bangalore/Bengaluru, Mumbai (All Ar...             Big Seo Buzz   \n",
       "4         Noida(Sector-59 Noida)\\n(WFH during Covid)  R Systems International   \n",
       "5  Noida, Mumbai, Chandigarh, Hyderabad/Secundera...             Confidential   \n",
       "6                                   Gurgaon/Gurugram           Feedback Infra   \n",
       "7                                              Noida                   4i Odc   \n",
       "8                                        Delhi / NCR            NatWest Group   \n",
       "9                                              Noida                 Dataflow   \n",
       "\n",
       "  Exp_Required  \n",
       "0     8-10 Yrs  \n",
       "1      2-5 Yrs  \n",
       "2      2-7 Yrs  \n",
       "3      3-7 Yrs  \n",
       "4     7-10 Yrs  \n",
       "5      1-6 Yrs  \n",
       "6      2-4 Yrs  \n",
       "7      2-4 Yrs  \n",
       "8      2-7 Yrs  \n",
       "9      2-5 Yrs  "
      ]
     },
     "execution_count": 142,
     "metadata": {},
     "output_type": "execute_result"
    }
   ],
   "source": [
    "data = pd.DataFrame({'Title':Title[:10],'Location':Location[:10],'Company':Company[:10],'Exp_Required':Exp_Required[:10]})\n",
    "data"
   ]
  },
  {
   "cell_type": "markdown",
   "id": "40c92bb4",
   "metadata": {},
   "source": [
    "# Q.4."
   ]
  },
  {
   "cell_type": "code",
   "execution_count": 97,
   "id": "95be097b",
   "metadata": {},
   "outputs": [],
   "source": [
    "from selenium import webdriver\n",
    "from time import sleep"
   ]
  },
  {
   "cell_type": "code",
   "execution_count": 98,
   "id": "2d4bdf41",
   "metadata": {},
   "outputs": [],
   "source": [
    "driver = webdriver.Chrome(r\"C:\\Users\\Swati\\OneDrive\\Desktop\\DataScience\\chromedriver.exe\")"
   ]
  },
  {
   "cell_type": "code",
   "execution_count": 99,
   "id": "15554501",
   "metadata": {},
   "outputs": [],
   "source": [
    "driver.get(\"https://www.flipkart.com/\")"
   ]
  },
  {
   "cell_type": "code",
   "execution_count": 100,
   "id": "03e7ca4b",
   "metadata": {},
   "outputs": [],
   "source": [
    "driver.maximize_window()"
   ]
  },
  {
   "cell_type": "code",
   "execution_count": 101,
   "id": "61b879ed",
   "metadata": {},
   "outputs": [],
   "source": [
    "try :\n",
    "    driver.find_element(By.XPATH,'//button[@class=\"_2KpZ6l _2doB4z\"]').click()\n",
    "except :\n",
    "    pass"
   ]
  },
  {
   "cell_type": "code",
   "execution_count": 102,
   "id": "4d5beb24",
   "metadata": {},
   "outputs": [],
   "source": [
    "input_search = driver.find_element(By.XPATH,'//input[@class=\"_3704LK\"]')\n",
    "search_button = driver.find_element(By.XPATH,'//button[@class=\"L0Z3Pu\"]')"
   ]
  },
  {
   "cell_type": "code",
   "execution_count": 103,
   "id": "9f4dbc56",
   "metadata": {},
   "outputs": [],
   "source": [
    "input_search.send_keys(\"sunglasses\")\n",
    "sleep(1)\n",
    "search_button.click()"
   ]
  },
  {
   "cell_type": "code",
   "execution_count": 113,
   "id": "016cc670",
   "metadata": {},
   "outputs": [
    {
     "name": "stdout",
     "output_type": "stream",
     "text": [
      "scraping_page 1\n",
      "scraping_page 2\n",
      "scraping_page 3\n"
     ]
    }
   ],
   "source": [
    "brand = []\n",
    "product_description = []\n",
    "price = []\n",
    "for i in range(3):\n",
    "    print('scraping_page',i+1)\n",
    "    brand_name = driver.find_elements(By.XPATH,'//div[@class=\"_2WkVRV\"]')\n",
    "    for p in brand_name:\n",
    "        brand.append(p.text)\n",
    "        \n",
    "    description = driver.find_elements(By.CLASS_NAME,'IRpwTa')\n",
    "    for p in description:\n",
    "        product_description.append(p.text)\n",
    "        \n",
    "    product_price = driver.find_elements(By.XPATH,'//div[@class=\"_30jeq3\"]')\n",
    "    for p in product_price:\n",
    "        price.append(p.text)\n",
    "    next_button = driver.find_element(By.XPATH,'//a[@class=\"_1LKTO3\"]')\n",
    "    next_button.click()\n",
    "    sleep(2)"
   ]
  },
  {
   "cell_type": "code",
   "execution_count": 121,
   "id": "6a81d8ca",
   "metadata": {},
   "outputs": [],
   "source": [
    "len(brand)"
   ]
  },
  {
   "cell_type": "code",
   "execution_count": 114,
   "id": "a2b81370",
   "metadata": {},
   "outputs": [
    {
     "data": {
      "text/plain": [
       "120"
      ]
     },
     "execution_count": 114,
     "metadata": {},
     "output_type": "execute_result"
    }
   ],
   "source": [
    "len(product_description)"
   ]
  },
  {
   "cell_type": "code",
   "execution_count": 111,
   "id": "35de1a56",
   "metadata": {},
   "outputs": [
    {
     "data": {
      "text/plain": [
       "120"
      ]
     },
     "execution_count": 111,
     "metadata": {},
     "output_type": "execute_result"
    }
   ],
   "source": [
    "len(price)"
   ]
  },
  {
   "cell_type": "code",
   "execution_count": 124,
   "id": "cc8a6d01",
   "metadata": {},
   "outputs": [
    {
     "data": {
      "text/plain": [
       "['AISLIN',\n",
       " 'VINCENT CHASE',\n",
       " 'kingsunglasses',\n",
       " 'LIZA ANGEL',\n",
       " 'PIRASO',\n",
       " 'kingsunglasses',\n",
       " 'ROZZETTA CRAFT',\n",
       " 'PIRASO',\n",
       " 'SUNBEE',\n",
       " 'kingsunglasses',\n",
       " 'VINCENT CHASE',\n",
       " 'VINCENT CHASE',\n",
       " 'Fastrack',\n",
       " 'ROYAL SON',\n",
       " 'Fastrack',\n",
       " 'Ray-Ban',\n",
       " 'Fastrack',\n",
       " 'ROYAL SON',\n",
       " 'kingsunglasses',\n",
       " 'Silver Kartz',\n",
       " 'VINCENT CHASE',\n",
       " 'VINCENT CHASE',\n",
       " 'Fastrack',\n",
       " 'ROYAL SON',\n",
       " 'Rich Club',\n",
       " 'CRYSTAL CART',\n",
       " 'ROZZETTA CRAFT',\n",
       " 'NuVew',\n",
       " 'Fastrack',\n",
       " 'Fastrack',\n",
       " 'Singco India',\n",
       " 'ROYAL SON',\n",
       " 'New Specs',\n",
       " 'ROYAL SON',\n",
       " 'DEIXELS',\n",
       " 'ROYAL SON',\n",
       " 'ROZZETTA CRAFT',\n",
       " 'VINCENT CHASE',\n",
       " 'Singco India',\n",
       " 'hipe',\n",
       " 'VINCENT CHASE',\n",
       " 'VINCENT CHASE',\n",
       " 'New Specs',\n",
       " 'PHENOMENAL',\n",
       " 'PIRASO',\n",
       " 'LIZA ANGEL',\n",
       " 'SHAAH COLLECTIONS',\n",
       " 'ROYAL SON',\n",
       " 'Fastrack',\n",
       " 'Sewell',\n",
       " 'VINCENT CHASE',\n",
       " 'VINCENT CHASE',\n",
       " 'SUNBEE',\n",
       " 'CRYSTAL CART',\n",
       " 'Elligator',\n",
       " 'PIRASO',\n",
       " 'New Specs',\n",
       " 'Singco India',\n",
       " 'PIRASO',\n",
       " 'Rich Club',\n",
       " 'ROYAL SON',\n",
       " 'VINCENT CHASE',\n",
       " 'SRPM',\n",
       " 'PIRASO',\n",
       " 'Lee Topper',\n",
       " 'ROYAL SON',\n",
       " 'ROZZETTA CRAFT',\n",
       " 'CRYSTAL CART',\n",
       " 'New Specs',\n",
       " 'ROZZETTA CRAFT',\n",
       " 'VINCENT CHASE',\n",
       " 'VINCENT CHASE',\n",
       " 'PIRASO',\n",
       " 'kingsunglasses',\n",
       " 'EYELLUSION',\n",
       " 'Fastrack',\n",
       " 'New Specs',\n",
       " 'VINCENT CHASE',\n",
       " 'SRPM',\n",
       " 'kingsunglasses',\n",
       " 'VINCENT CHASE',\n",
       " 'VINCENT CHASE',\n",
       " 'kingsunglasses',\n",
       " 'LIZA ANGEL',\n",
       " 'PIRASO',\n",
       " 'kingsunglasses',\n",
       " 'ROZZETTA CRAFT',\n",
       " 'VINCENT CHASE',\n",
       " 'PIRASO',\n",
       " 'SUNBEE',\n",
       " 'VINCENT CHASE',\n",
       " 'Poshh eyewear',\n",
       " 'kingsunglasses',\n",
       " 'Fastrack',\n",
       " 'ROYAL SON',\n",
       " 'Fastrack',\n",
       " 'Ray-Ban',\n",
       " 'ROYAL SON',\n",
       " 'Fastrack',\n",
       " 'kingsunglasses']"
      ]
     },
     "execution_count": 124,
     "metadata": {},
     "output_type": "execute_result"
    }
   ],
   "source": [
    "brand_100 = brand[:100]\n",
    "brand_100"
   ]
  },
  {
   "cell_type": "code",
   "execution_count": 125,
   "id": "0845d1b5",
   "metadata": {},
   "outputs": [
    {
     "data": {
      "text/plain": [
       "['UV Protection, Gradient Cat-eye Sunglasses (58)',\n",
       " 'by Lenskart Polarized, UV Protection Cat-eye Sunglasses...',\n",
       " 'UV Protection Rectangular Sunglasses (55)',\n",
       " 'Riding Glasses, UV Protection, Night Vision Spectacle ...',\n",
       " 'UV Protection Wayfarer Sunglasses (55)',\n",
       " 'UV Protection Rectangular Sunglasses (55)',\n",
       " 'UV Protection Retro Square Sunglasses (Free Size)',\n",
       " 'UV Protection Aviator Sunglasses (55)',\n",
       " 'UV Protection, Polarized, Mirrored Retro Square Sunglas...',\n",
       " 'UV Protection, Riding Glasses, Mirrored Wayfarer Sungla...',\n",
       " 'UV Protection Rectangular Sunglasses (50)',\n",
       " 'by Lenskart Polarized, UV Protection Wayfarer Sunglasse...',\n",
       " 'Mirrored, UV Protection Wayfarer Sunglasses (Free Size)',\n",
       " 'Polarized, UV Protection Wayfarer Sunglasses (61)',\n",
       " 'UV Protection Shield Sunglasses (Free Size)',\n",
       " 'UV Protection Retro Square Sunglasses (55)',\n",
       " 'UV Protection Wayfarer Sunglasses (Free Size)',\n",
       " 'UV Protection, Polarized Round Sunglasses (54)',\n",
       " 'Mirrored, UV Protection Wayfarer Sunglasses (Free Size)',\n",
       " 'UV Protection Wayfarer Sunglasses (Free Size)',\n",
       " 'by Lenskart Polarized, UV Protection Cat-eye Sunglasses...',\n",
       " 'by Lenskart Polarized, UV Protection Round Sunglasses (...',\n",
       " 'UV Protection Aviator Sunglasses (58)',\n",
       " 'Mirrored Aviator Sunglasses (Free Size)',\n",
       " 'Polarized Round Sunglasses (48)',\n",
       " 'Polarized, UV Protection, Mirrored, Gradient Rectangula...',\n",
       " 'UV Protection Spectacle Sunglasses (Free Size)',\n",
       " 'UV Protection Sports Sunglasses (62)',\n",
       " 'Gradient, UV Protection Wayfarer Sunglasses (Free Size)',\n",
       " 'UV Protection Wayfarer Sunglasses (Free Size)',\n",
       " 'Gradient, Toughened Glass Lens, UV Protection Retro Squ...',\n",
       " 'UV Protection, Polarized Round Sunglasses (54)',\n",
       " 'UV Protection Rectangular Sunglasses (Free Size)',\n",
       " 'UV Protection Rectangular, Retro Square Sunglasses (58)',\n",
       " 'Polarized, UV Protection, Riding Glasses Wayfarer Sungl...',\n",
       " 'Mirrored Aviator Sunglasses (58)',\n",
       " 'UV Protection, Gradient Retro Square Sunglasses (Free S...',\n",
       " 'Polarized, UV Protection Round Sunglasses (50)',\n",
       " 'Riding Glasses, UV Protection Clubmaster, Wayfarer Sung...',\n",
       " 'UV Protection, Night Vision, Riding Glasses, Gradient, ...',\n",
       " 'by Lenskart Polarized, UV Protection Cat-eye Sunglasses...',\n",
       " 'by Lenskart Polarized, UV Protection Round Sunglasses (...',\n",
       " 'UV Protection Rectangular Sunglasses (Free Size)',\n",
       " 'UV Protection Retro Square Sunglasses (53)',\n",
       " 'UV Protection Aviator Sunglasses (54)',\n",
       " 'Riding Glasses, Night Vision Spectacle Sunglasses (Fre...',\n",
       " 'UV Protection, Polarized, Mirrored Rectangular Sunglass...',\n",
       " 'UV Protection, Polarized Round Sunglasses (54)',\n",
       " 'UV Protection Aviator Sunglasses (Free Size)',\n",
       " 'Mirrored, Night Vision, UV Protection, Riding Glasses S...',\n",
       " 'UV Protection Rectangular Sunglasses (52)',\n",
       " 'by Lenskart Polarized, UV Protection Round Sunglasses (...',\n",
       " 'UV Protection, Polarized Wayfarer Sunglasses (Free Size...',\n",
       " 'Mirrored, Night Vision Oval Sunglasses (Free Size)',\n",
       " 'UV Protection Round Sunglasses (54)',\n",
       " 'UV Protection Rectangular Sunglasses (52)',\n",
       " 'Mirrored, UV Protection, Riding Glasses, Others Round S...',\n",
       " 'Gradient, Toughened Glass Lens, UV Protection Retro Squ...',\n",
       " 'UV Protection Aviator Sunglasses (54)',\n",
       " 'UV Protection Retro Square Sunglasses (54)',\n",
       " 'UV Protection, Polarized Round Sunglasses (54)',\n",
       " 'by Lenskart Polarized, UV Protection Wayfarer Sunglasse...',\n",
       " 'UV Protection Wayfarer Sunglasses (50)',\n",
       " 'UV Protection Aviator Sunglasses (58)',\n",
       " 'UV Protection Rectangular Sunglasses (Free Size)',\n",
       " 'Mirrored Aviator Sunglasses (55)',\n",
       " 'UV Protection Aviator Sunglasses (55)',\n",
       " 'Polarized, UV Protection, Gradient, Riding Glasses Rect...',\n",
       " 'UV Protection Oval Sunglasses (Free Size)',\n",
       " 'Polarized, Riding Glasses Sports, Wrap-around Sunglasse...',\n",
       " 'Polarized, UV Protection Round Sunglasses (50)',\n",
       " 'by Lenskart Polarized, UV Protection Round Sunglasses (...',\n",
       " 'UV Protection Wayfarer Sunglasses (32)',\n",
       " 'UV Protection Round Sunglasses (54)',\n",
       " 'Riding Glasses, Riding Glasses, UV Protection Round Sun...',\n",
       " 'UV Protection Wayfarer Sunglasses (Free Size)',\n",
       " 'UV Protection Round Sunglasses (Free Size)',\n",
       " 'by Lenskart UV Protection Aviator Sunglasses (53)',\n",
       " 'Night Vision, UV Protection Round Sunglasses (54)',\n",
       " 'UV Protection, Mirrored Aviator Sunglasses (Free Size)',\n",
       " 'Polarized, UV Protection Round Sunglasses (50)',\n",
       " 'UV Protection Rectangular Sunglasses (50)',\n",
       " 'UV Protection Rectangular Sunglasses (55)',\n",
       " 'Riding Glasses, UV Protection, Night Vision Spectacle ...',\n",
       " 'UV Protection Wayfarer Sunglasses (55)',\n",
       " 'UV Protection Rectangular Sunglasses (55)',\n",
       " 'UV Protection Retro Square Sunglasses (Free Size)',\n",
       " 'by Lenskart Polarized, UV Protection Cat-eye Sunglasses...',\n",
       " 'UV Protection Aviator Sunglasses (55)',\n",
       " 'UV Protection, Polarized, Mirrored Retro Square Sunglas...',\n",
       " 'by Lenskart Polarized, UV Protection Round Sunglasses (...',\n",
       " 'UV Protection, Night Vision, Riding Glasses Sports, Wra...',\n",
       " 'UV Protection, Riding Glasses, Mirrored Wayfarer Sungla...',\n",
       " 'Mirrored, UV Protection Wayfarer Sunglasses (Free Size)',\n",
       " 'Polarized, UV Protection Wayfarer Sunglasses (61)',\n",
       " 'UV Protection Shield Sunglasses (Free Size)',\n",
       " 'UV Protection Retro Square Sunglasses (55)',\n",
       " 'Polarized, UV Protection Round Sunglasses (52)',\n",
       " 'UV Protection Wayfarer Sunglasses (Free Size)',\n",
       " 'Mirrored, UV Protection Wayfarer Sunglasses (Free Size)']"
      ]
     },
     "execution_count": 125,
     "metadata": {},
     "output_type": "execute_result"
    }
   ],
   "source": [
    "description_100 = product_description[:100]\n",
    "description_100"
   ]
  },
  {
   "cell_type": "code",
   "execution_count": 126,
   "id": "2ae036d7",
   "metadata": {},
   "outputs": [
    {
     "data": {
      "text/plain": [
       "['₹448',\n",
       " '₹1,049',\n",
       " '₹189',\n",
       " '₹189',\n",
       " '₹237',\n",
       " '₹255',\n",
       " '₹449',\n",
       " '₹237',\n",
       " '₹246',\n",
       " '₹213',\n",
       " '₹699',\n",
       " '₹711',\n",
       " '₹899',\n",
       " '₹559',\n",
       " '₹719',\n",
       " '₹3,289',\n",
       " '₹759',\n",
       " '₹538',\n",
       " '₹254',\n",
       " '₹288',\n",
       " '₹1,049',\n",
       " '₹764',\n",
       " '₹1,039',\n",
       " '₹339',\n",
       " '₹209',\n",
       " '₹476',\n",
       " '₹319',\n",
       " '₹307',\n",
       " '₹719',\n",
       " '₹559',\n",
       " '₹607',\n",
       " '₹559',\n",
       " '₹189',\n",
       " '₹424',\n",
       " '₹249',\n",
       " '₹339',\n",
       " '₹314',\n",
       " '₹1,099',\n",
       " '₹296',\n",
       " '₹169',\n",
       " '₹1,049',\n",
       " '₹999',\n",
       " '₹250',\n",
       " '₹226',\n",
       " '₹237',\n",
       " '₹189',\n",
       " '₹185',\n",
       " '₹538',\n",
       " '₹639',\n",
       " '₹251',\n",
       " '₹699',\n",
       " '₹764',\n",
       " '₹268',\n",
       " '₹172',\n",
       " '₹298',\n",
       " '₹246',\n",
       " '₹296',\n",
       " '₹607',\n",
       " '₹237',\n",
       " '₹299',\n",
       " '₹559',\n",
       " '₹711',\n",
       " '₹197',\n",
       " '₹323',\n",
       " '₹219',\n",
       " '₹339',\n",
       " '₹584',\n",
       " '₹313',\n",
       " '₹196',\n",
       " '₹449',\n",
       " '₹1,099',\n",
       " '₹949',\n",
       " '₹237',\n",
       " '₹214',\n",
       " '₹189',\n",
       " '₹799',\n",
       " '₹268',\n",
       " '₹773',\n",
       " '₹228',\n",
       " '₹269',\n",
       " '₹1,049',\n",
       " '₹699',\n",
       " '₹189',\n",
       " '₹189',\n",
       " '₹237',\n",
       " '₹255',\n",
       " '₹449',\n",
       " '₹1,049',\n",
       " '₹237',\n",
       " '₹246',\n",
       " '₹901',\n",
       " '₹211',\n",
       " '₹213',\n",
       " '₹899',\n",
       " '₹559',\n",
       " '₹719',\n",
       " '₹3,289',\n",
       " '₹639',\n",
       " '₹759',\n",
       " '₹254']"
      ]
     },
     "execution_count": 126,
     "metadata": {},
     "output_type": "execute_result"
    }
   ],
   "source": [
    "price_100 = price[:100]\n",
    "price_100"
   ]
  },
  {
   "cell_type": "code",
   "execution_count": 118,
   "id": "e5df299e",
   "metadata": {},
   "outputs": [],
   "source": [
    "import pandas as pd"
   ]
  },
  {
   "cell_type": "code",
   "execution_count": 127,
   "id": "fef37803",
   "metadata": {},
   "outputs": [
    {
     "data": {
      "text/html": [
       "<div>\n",
       "<style scoped>\n",
       "    .dataframe tbody tr th:only-of-type {\n",
       "        vertical-align: middle;\n",
       "    }\n",
       "\n",
       "    .dataframe tbody tr th {\n",
       "        vertical-align: top;\n",
       "    }\n",
       "\n",
       "    .dataframe thead th {\n",
       "        text-align: right;\n",
       "    }\n",
       "</style>\n",
       "<table border=\"1\" class=\"dataframe\">\n",
       "  <thead>\n",
       "    <tr style=\"text-align: right;\">\n",
       "      <th></th>\n",
       "      <th>Brand</th>\n",
       "      <th>Product_description</th>\n",
       "      <th>Price</th>\n",
       "    </tr>\n",
       "  </thead>\n",
       "  <tbody>\n",
       "    <tr>\n",
       "      <th>0</th>\n",
       "      <td>AISLIN</td>\n",
       "      <td>UV Protection, Gradient Cat-eye Sunglasses (58)</td>\n",
       "      <td>₹448</td>\n",
       "    </tr>\n",
       "    <tr>\n",
       "      <th>1</th>\n",
       "      <td>VINCENT CHASE</td>\n",
       "      <td>by Lenskart Polarized, UV Protection Cat-eye S...</td>\n",
       "      <td>₹1,049</td>\n",
       "    </tr>\n",
       "    <tr>\n",
       "      <th>2</th>\n",
       "      <td>kingsunglasses</td>\n",
       "      <td>UV Protection Rectangular Sunglasses (55)</td>\n",
       "      <td>₹189</td>\n",
       "    </tr>\n",
       "    <tr>\n",
       "      <th>3</th>\n",
       "      <td>LIZA ANGEL</td>\n",
       "      <td>Riding Glasses, UV Protection, Night Vision Sp...</td>\n",
       "      <td>₹189</td>\n",
       "    </tr>\n",
       "    <tr>\n",
       "      <th>4</th>\n",
       "      <td>PIRASO</td>\n",
       "      <td>UV Protection Wayfarer Sunglasses (55)</td>\n",
       "      <td>₹237</td>\n",
       "    </tr>\n",
       "    <tr>\n",
       "      <th>...</th>\n",
       "      <td>...</td>\n",
       "      <td>...</td>\n",
       "      <td>...</td>\n",
       "    </tr>\n",
       "    <tr>\n",
       "      <th>95</th>\n",
       "      <td>Fastrack</td>\n",
       "      <td>UV Protection Shield Sunglasses (Free Size)</td>\n",
       "      <td>₹719</td>\n",
       "    </tr>\n",
       "    <tr>\n",
       "      <th>96</th>\n",
       "      <td>Ray-Ban</td>\n",
       "      <td>UV Protection Retro Square Sunglasses (55)</td>\n",
       "      <td>₹3,289</td>\n",
       "    </tr>\n",
       "    <tr>\n",
       "      <th>97</th>\n",
       "      <td>ROYAL SON</td>\n",
       "      <td>Polarized, UV Protection Round Sunglasses (52)</td>\n",
       "      <td>₹639</td>\n",
       "    </tr>\n",
       "    <tr>\n",
       "      <th>98</th>\n",
       "      <td>Fastrack</td>\n",
       "      <td>UV Protection Wayfarer Sunglasses (Free Size)</td>\n",
       "      <td>₹759</td>\n",
       "    </tr>\n",
       "    <tr>\n",
       "      <th>99</th>\n",
       "      <td>kingsunglasses</td>\n",
       "      <td>Mirrored, UV Protection Wayfarer Sunglasses (F...</td>\n",
       "      <td>₹254</td>\n",
       "    </tr>\n",
       "  </tbody>\n",
       "</table>\n",
       "<p>100 rows × 3 columns</p>\n",
       "</div>"
      ],
      "text/plain": [
       "             Brand                                Product_description   Price\n",
       "0           AISLIN    UV Protection, Gradient Cat-eye Sunglasses (58)    ₹448\n",
       "1    VINCENT CHASE  by Lenskart Polarized, UV Protection Cat-eye S...  ₹1,049\n",
       "2   kingsunglasses          UV Protection Rectangular Sunglasses (55)    ₹189\n",
       "3       LIZA ANGEL  Riding Glasses, UV Protection, Night Vision Sp...    ₹189\n",
       "4           PIRASO             UV Protection Wayfarer Sunglasses (55)    ₹237\n",
       "..             ...                                                ...     ...\n",
       "95        Fastrack        UV Protection Shield Sunglasses (Free Size)    ₹719\n",
       "96         Ray-Ban         UV Protection Retro Square Sunglasses (55)  ₹3,289\n",
       "97       ROYAL SON     Polarized, UV Protection Round Sunglasses (52)    ₹639\n",
       "98        Fastrack      UV Protection Wayfarer Sunglasses (Free Size)    ₹759\n",
       "99  kingsunglasses  Mirrored, UV Protection Wayfarer Sunglasses (F...    ₹254\n",
       "\n",
       "[100 rows x 3 columns]"
      ]
     },
     "execution_count": 127,
     "metadata": {},
     "output_type": "execute_result"
    }
   ],
   "source": [
    "data = pd.DataFrame({'Brand':brand_100,'Product_description':description_100,'Price':price_100})\n",
    "data"
   ]
  },
  {
   "cell_type": "markdown",
   "id": "b32f6263",
   "metadata": {},
   "source": [
    "# Q.5."
   ]
  },
  {
   "cell_type": "code",
   "execution_count": 27,
   "id": "e03ba304",
   "metadata": {},
   "outputs": [],
   "source": [
    "driver = webdriver.Chrome(r\"C:\\Users\\Swati\\OneDrive\\Desktop\\DataScience\\chromedriver.exe\")"
   ]
  },
  {
   "cell_type": "code",
   "execution_count": 28,
   "id": "2c208ebf",
   "metadata": {},
   "outputs": [],
   "source": [
    "driver.get(\"https://www.flipkart.com/\")"
   ]
  },
  {
   "cell_type": "code",
   "execution_count": 29,
   "id": "87a45c48",
   "metadata": {},
   "outputs": [],
   "source": [
    "driver.maximize_window()"
   ]
  },
  {
   "cell_type": "code",
   "execution_count": 30,
   "id": "d64b7276",
   "metadata": {},
   "outputs": [],
   "source": [
    "try :\n",
    "    driver.find_element(By.XPATH,'//button[@class=\"_2KpZ6l _2doB4z\"]').click()\n",
    "except :\n",
    "    pass"
   ]
  },
  {
   "cell_type": "code",
   "execution_count": 31,
   "id": "6a337be9",
   "metadata": {},
   "outputs": [],
   "source": [
    "input_search = driver.find_element(By.XPATH,'//input[@class=\"_3704LK\"]')\n",
    "search_button = driver.find_element(By.XPATH,'//button[@class=\"L0Z3Pu\"]')"
   ]
  },
  {
   "cell_type": "code",
   "execution_count": 32,
   "id": "ddd42429",
   "metadata": {},
   "outputs": [],
   "source": [
    "input_search.send_keys(\"iphone 11\")\n",
    "time.sleep(1)\n",
    "search_button.click()"
   ]
  },
  {
   "cell_type": "code",
   "execution_count": 40,
   "id": "5c782b91",
   "metadata": {},
   "outputs": [],
   "source": [
    "product = driver.find_element(By.XPATH,'//div[@class=\"_4rR01T\"]')\n",
    "product.click()"
   ]
  },
  {
   "cell_type": "code",
   "execution_count": 45,
   "id": "a9a058f3",
   "metadata": {},
   "outputs": [
    {
     "name": "stdout",
     "output_type": "stream",
     "text": [
      "APPLE iPhone 11 (White, 64 GB)\n",
      "4.695,570 Ratings & 7,021 Reviews\n",
      "64 GB ROM\n",
      "15.49 cm (6.1 inch) Liquid Retina HD Display\n",
      "12MP + 12MP | 12MP Front Camera\n",
      "A13 Bionic Chip Processor\n",
      "Brand Warranty of 1 Year\n",
      "₹41,999\n",
      "₹43,9004% off\n",
      "Free delivery\n",
      "Upto \n",
      "₹17,000\n",
      " Off on Exchange\n",
      "Bank Offer\n",
      "APPLE iPhone 11 (Black, 64 GB)\n",
      "4.695,570 Ratings & 7,021 Reviews\n",
      "64 GB ROM\n",
      "15.49 cm (6.1 inch) Liquid Retina HD Display\n",
      "12MP + 12MP | 12MP Front Camera\n",
      "A13 Bionic Chip Processor\n",
      "Brand Warranty of 1 Year\n",
      "₹41,999\n",
      "₹43,9004% off\n",
      "Free delivery\n",
      "Upto \n",
      "₹17,000\n",
      " Off on Exchange\n",
      "Bank Offer\n",
      "APPLE iPhone 11 (Red, 64 GB)\n",
      "4.695,570 Ratings & 7,021 Reviews\n",
      "64 GB ROM\n",
      "15.49 cm (6.1 inch) Liquid Retina HD Display\n",
      "12MP + 12MP | 12MP Front Camera\n",
      "A13 Bionic Chip Processor\n",
      "Brand Warranty of 1 Year\n",
      "₹41,999\n",
      "₹43,9004% off\n",
      "Free delivery\n",
      "Upto \n",
      "₹17,000\n",
      " Off on Exchange\n",
      "Bank Offer\n",
      "APPLE iPhone 11 (Purple, 64 GB)\n",
      "4.695,570 Ratings & 7,021 Reviews\n",
      "64 GB ROM\n",
      "15.49 cm (6.1 inch) Liquid Retina HD Display\n",
      "12MP + 12MP | 12MP Front Camera\n",
      "A13 Bionic Chip Processor\n",
      "Brand Warranty of 1 Year\n",
      "₹41,999\n",
      "₹43,9004% off\n",
      "Free delivery\n",
      "Upto \n",
      "₹17,000\n",
      " Off on Exchange\n",
      "Bank Offer\n",
      "APPLE iPhone 11 (White, 128 GB)\n",
      "4.695,570 Ratings & 7,021 Reviews\n",
      "128 GB ROM\n",
      "15.49 cm (6.1 inch) Liquid Retina HD Display\n",
      "12MP + 12MP | 12MP Front Camera\n",
      "A13 Bionic Chip Processor\n",
      "Brand Warranty of 1 Year\n",
      "₹48,900\n",
      "Free delivery\n",
      "Upto \n",
      "₹17,000\n",
      " Off on Exchange\n",
      "Bank Offer\n",
      "APPLE iPhone 11 (Purple, 128 GB)\n",
      "4.695,570 Ratings & 7,021 Reviews\n",
      "128 GB ROM\n",
      "15.49 cm (6.1 inch) Liquid Retina HD Display\n",
      "12MP + 12MP | 12MP Front Camera\n",
      "A13 Bionic Chip Processor\n",
      "Brand Warranty of 1 Year\n",
      "₹48,900\n",
      "Free delivery\n",
      "Upto \n",
      "₹17,000\n",
      " Off on Exchange\n",
      "Bank Offer\n",
      "APPLE iPhone 11 (Green, 128 GB)\n",
      "4.695,570 Ratings & 7,021 Reviews\n",
      "128 GB ROM\n",
      "15.49 cm (6.1 inch) Liquid Retina HD Display\n",
      "12MP + 12MP | 12MP Front Camera\n",
      "A13 Bionic Chip Processor\n",
      "Brand Warranty of 1 Year\n",
      "₹48,900\n",
      "Free delivery\n",
      "Upto \n",
      "₹17,000\n",
      " Off on Exchange\n",
      "Bank Offer\n",
      "APPLE iPhone 11 (Green, 64 GB)\n",
      "4.695,570 Ratings & 7,021 Reviews\n",
      "64 GB ROM\n",
      "15.49 cm (6.1 inch) Liquid Retina HD Display\n",
      "12MP + 12MP | 12MP Front Camera\n",
      "A13 Bionic Chip Processor\n",
      "Brand Warranty of 1 Year\n",
      "₹41,999\n",
      "₹43,9004% off\n",
      "Free delivery\n",
      "Upto \n",
      "₹17,000\n",
      " Off on Exchange\n",
      "Bank Offer\n",
      "APPLE iPhone 11 (Black, 128 GB)\n",
      "4.695,570 Ratings & 7,021 Reviews\n",
      "128 GB ROM\n",
      "15.49 cm (6.1 inch) Liquid Retina HD Display\n",
      "12MP + 12MP | 12MP Front Camera\n",
      "A13 Bionic Chip Processor\n",
      "Brand Warranty of 1 Year\n",
      "₹48,900\n",
      "Free delivery\n",
      "Upto \n",
      "₹17,000\n",
      " Off on Exchange\n",
      "Bank Offer\n",
      "APPLE iPhone 11 (Red, 128 GB)\n",
      "4.695,570 Ratings & 7,021 Reviews\n",
      "128 GB ROM\n",
      "15.49 cm (6.1 inch) Liquid Retina HD Display\n",
      "12MP + 12MP | 12MP Front Camera\n",
      "A13 Bionic Chip Processor\n",
      "Brand Warranty of 1 Year\n",
      "₹48,900\n",
      "Free delivery\n",
      "Upto \n",
      "₹17,000\n",
      " Off on Exchange\n",
      "Bank Offer\n",
      "APPLE iPhone 11 (Yellow, 128 GB)\n",
      "4.695,570 Ratings & 7,021 Reviews\n",
      "128 GB ROM\n",
      "15.49 cm (6.1 inch) Liquid Retina HD Display\n",
      "12MP + 12MP | 12MP Front Camera\n",
      "A13 Bionic Chip Processor\n",
      "Brand Warranty of 1 Year\n",
      "₹48,900\n",
      "Free delivery\n",
      "Upto \n",
      "₹17,000\n",
      " Off on Exchange\n",
      "Bank Offer\n",
      "APPLE iPhone 11 (Yellow, 64 GB)\n",
      "4.695,570 Ratings & 7,021 Reviews\n",
      "64 GB ROM\n",
      "15.49 cm (6.1 inch) Liquid Retina HD Display\n",
      "12MP + 12MP | 12MP Front Camera\n",
      "A13 Bionic Chip Processor\n",
      "Brand Warranty of 1 Year\n",
      "₹43,900\n",
      "Free delivery\n",
      "Upto \n",
      "₹17,000\n",
      " Off on Exchange\n",
      "Bank Offer\n",
      "APPLE iPhone 6 (Space Grey, 32 GB)\n",
      "4.41,45,504 Ratings & 16,282 Reviews\n",
      "32 GB ROM\n",
      "11.94 cm (4.7 inch) Retina HD Display\n",
      "8MP Rear Camera | 1.2MP Front Camera\n",
      "Apple A8 64-bit processor and M8 Motion Co-processor\n",
      "Brand Warranty of 1 Year\n",
      "₹30,780\n",
      "₹31,9003% off\n",
      "Apple iPhone 11 (Green, 64 GB) (Includes EarPods, Power Adapter)\n",
      "4.695,570 Ratings & 7,021 Reviews\n",
      "64 GB ROM\n",
      "15.49 cm (6.1 inch) Liquid Retina HD Display\n",
      "12MP + 12MP | 12MP Front Camera\n",
      "A13 Bionic Chip Processor\n",
      "Brand Warranty for 1 Year\n",
      "₹49,900\n",
      "Free delivery\n",
      "Upto \n",
      "₹17,000\n",
      " Off on Exchange\n",
      "Bank Offer\n",
      "Apple iPhone 11 (White, 128 GB) (Includes EarPods, Power Adapter)\n",
      "4.695,570 Ratings & 7,021 Reviews\n",
      "128 GB ROM\n",
      "15.49 cm (6.1 inch) Liquid Retina HD Display\n",
      "12MP + 12MP | 12MP Front Camera\n",
      "A13 Bionic Chip Processor\n",
      "Brand Warranty for 1 Year\n",
      "₹54,900\n",
      "Free delivery\n",
      "Upto \n",
      "₹17,000\n",
      " Off on Exchange\n",
      "Bank Offer\n",
      "Apple iPhone 11 (Yellow, 64 GB) (Includes EarPods, Power Adapter)\n",
      "4.695,570 Ratings & 7,021 Reviews\n",
      "64 GB ROM\n",
      "15.49 cm (6.1 inch) Liquid Retina HD Display\n",
      "12MP + 12MP | 12MP Front Camera\n",
      "A13 Bionic Chip Processor\n",
      "Brand Warranty for 1 Year\n",
      "₹49,900\n",
      "Free delivery\n",
      "Upto \n",
      "₹17,000\n",
      " Off on Exchange\n",
      "Bank Offer\n",
      "Apple iPhone 11 (White, 256 GB) (Includes EarPods, Power Adapter)\n",
      "4.695,570 Ratings & 7,021 Reviews\n",
      "256 GB ROM\n",
      "15.49 cm (6.1 inch) Liquid Retina HD Display\n",
      "12MP + 12MP | 12MP Front Camera\n",
      "A13 Bionic Chip Processor\n",
      "Brand Warranty for 1 Year\n",
      "₹64,900\n",
      "Free delivery\n",
      "Upto \n",
      "₹17,000\n",
      " Off on Exchange\n",
      "Bank Offer\n",
      "Apple iPhone 11 (Black, 256 GB) (Includes EarPods, Power Adapter)\n",
      "4.695,570 Ratings & 7,021 Reviews\n",
      "256 GB ROM\n",
      "15.49 cm (6.1 inch) Liquid Retina HD Display\n",
      "12MP + 12MP | 12MP Front Camera\n",
      "A13 Bionic Chip Processor\n",
      "Brand Warranty for 1 Year\n",
      "₹64,900\n",
      "Free delivery\n",
      "Upto \n",
      "₹17,000\n",
      " Off on Exchange\n",
      "Bank Offer\n",
      "Apple iPhone 11 (Yellow, 256 GB) (Includes EarPods, Power Adapter)\n",
      "4.695,570 Ratings & 7,021 Reviews\n",
      "256 GB ROM\n",
      "15.49 cm (6.1 inch) Liquid Retina HD Display\n",
      "12MP + 12MP | 12MP Front Camera\n",
      "A13 Bionic Chip Processor\n",
      "Brand Warranty for 1 Year\n",
      "₹64,900\n",
      "Free delivery\n",
      "Upto \n",
      "₹17,000\n",
      " Off on Exchange\n",
      "Bank Offer\n",
      "Apple iPhone 11 (Yellow, 128 GB) (Includes EarPods, Power Adapter)\n",
      "4.695,570 Ratings & 7,021 Reviews\n",
      "128 GB ROM\n",
      "15.49 cm (6.1 inch) Liquid Retina HD Display\n",
      "12MP + 12MP | 12MP Front Camera\n",
      "A13 Bionic Chip Processor\n",
      "Brand Warranty for 1 Year\n",
      "₹54,900\n",
      "Free delivery\n",
      "Upto \n",
      "₹17,000\n",
      " Off on Exchange\n",
      "Bank Offer\n",
      "APPLE iPhone 11 (Red, 256 GB)\n",
      "4.695,570 Ratings & 7,021 Reviews\n",
      "256 GB ROM\n",
      "15.49 cm (6.1 inch) Liquid Retina HD Display\n",
      "12MP + 12MP | 12MP Front Camera\n",
      "A13 Bionic Chip Processor\n",
      "Brand Warranty of 1 Year\n",
      "₹64,900\n",
      "Free delivery\n",
      "Upto \n",
      "₹17,000\n",
      " Off on Exchange\n",
      "Bank Offer\n",
      "Apple iPhone 11 (Purple, 128 GB) (Includes EarPods, Power Adapter)\n",
      "4.695,570 Ratings & 7,021 Reviews\n",
      "128 GB ROM\n",
      "15.49 cm (6.1 inch) Liquid Retina HD Display\n",
      "12MP + 12MP | 12MP Front Camera\n",
      "A13 Bionic Chip Processor\n",
      "Brand Warranty for 1 Year\n",
      "₹54,900\n",
      "Free delivery\n",
      "Upto \n",
      "₹17,000\n",
      " Off on Exchange\n",
      "Bank Offer\n",
      "Apple iPhone 11 (Red, 256 GB) (Includes EarPods, Power Adapter)\n",
      "4.695,570 Ratings & 7,021 Reviews\n",
      "256 GB ROM\n",
      "15.49 cm (6.1 inch) Liquid Retina HD Display\n",
      "12MP + 12MP | 12MP Front Camera\n",
      "A13 Bionic Chip Processor\n",
      "Brand Warranty for 1 Year\n",
      "₹64,900\n",
      "Free delivery\n",
      "Upto \n",
      "₹17,000\n",
      " Off on Exchange\n",
      "Bank Offer\n",
      "APPLE iPhone 11 (White, 256 GB)\n",
      "4.695,570 Ratings & 7,021 Reviews\n",
      "256 GB ROM\n",
      "15.49 cm (6.1 inch) Liquid Retina HD Display\n",
      "12MP + 12MP | 12MP Front Camera\n",
      "A13 Bionic Chip Processor\n",
      "Brand Warranty of 1 Year\n",
      "₹64,900\n",
      "Free delivery\n",
      "Upto \n",
      "₹17,000\n",
      " Off on Exchange\n",
      "Bank Offer\n",
      "\n",
      "ABOUT\n",
      "Contact Us\n",
      "About Us\n",
      "Careers\n",
      "Flipkart Stories\n",
      "Press\n",
      "Flipkart Wholesale\n",
      "Corporate Information\n",
      "HELP\n",
      "Payments\n",
      "Shipping\n",
      "Cancellation & Returns\n",
      "FAQ\n",
      "Report Infringement\n",
      "POLICY\n",
      "Return Policy\n",
      "Terms Of Use\n",
      "Security\n",
      "Privacy\n",
      "Sitemap\n",
      "EPR Compliance\n",
      "SOCIAL\n",
      "Facebook\n",
      "Twitter\n",
      "YouTube\n",
      "Mail Us:\n",
      "Flipkart Internet Private Limited,\n",
      "Buildings Alyssa, Begonia &\n",
      "Clove Embassy Tech Village,\n",
      "Outer Ring Road, Devarabeesanahalli Village,\n",
      "Bengaluru, 560103,\n",
      "Karnataka, India\n",
      "Registered Office Address:\n",
      "Flipkart Internet Private Limited,\n",
      "Buildings Alyssa, Begonia &\n",
      "Clove Embassy Tech Village,\n",
      "Outer Ring Road, Devarabeesanahalli Village,\n",
      "Bengaluru, 560103,\n",
      "Karnataka, India\n",
      "CIN : U51109KA2012PTC066107\n",
      "Telephone: 044-45614700\n"
     ]
    },
    {
     "ename": "InvalidSelectorException",
     "evalue": "Message: invalid selector: Unable to locate an element with the xpath expression //div-@class=\"_3LWZlK _1BLPMq\"] because of the following error:\nSyntaxError: Failed to execute 'evaluate' on 'Document': The string '//div-@class=\"_3LWZlK _1BLPMq\"]' is not a valid XPath expression.\n  (Session info: chrome=105.0.5195.102)\nStacktrace:\nBacktrace:\n\tOrdinal0 [0x0047DF13+2219795]\n\tOrdinal0 [0x00412841+1779777]\n\tOrdinal0 [0x0032423D+803389]\n\tOrdinal0 [0x00326D04+814340]\n\tOrdinal0 [0x00326BC2+814018]\n\tOrdinal0 [0x00326E50+814672]\n\tOrdinal0 [0x00352D4F+994639]\n\tOrdinal0 [0x003531EB+995819]\n\tOrdinal0 [0x00380F8C+1183628]\n\tOrdinal0 [0x0036E844+1108036]\n\tOrdinal0 [0x0037F192+1175954]\n\tOrdinal0 [0x0036E616+1107478]\n\tOrdinal0 [0x00347F89+950153]\n\tOrdinal0 [0x00348F56+954198]\n\tGetHandleVerifier [0x00772CB2+3040210]\n\tGetHandleVerifier [0x00762BB4+2974420]\n\tGetHandleVerifier [0x00516A0A+565546]\n\tGetHandleVerifier [0x00515680+560544]\n\tOrdinal0 [0x00419A5C+1808988]\n\tOrdinal0 [0x0041E3A8+1827752]\n\tOrdinal0 [0x0041E495+1827989]\n\tOrdinal0 [0x004280A4+1867940]\n\tBaseThreadInitThunk [0x76036739+25]\n\tRtlGetFullPathName_UEx [0x778F90AF+1215]\n\tRtlGetFullPathName_UEx [0x778F907D+1165]\n",
     "output_type": "error",
     "traceback": [
      "\u001b[1;31m---------------------------------------------------------------------------\u001b[0m",
      "\u001b[1;31mInvalidSelectorException\u001b[0m                  Traceback (most recent call last)",
      "Input \u001b[1;32mIn [45]\u001b[0m, in \u001b[0;36m<cell line: 5>\u001b[1;34m()\u001b[0m\n\u001b[0;32m      2\u001b[0m \u001b[38;5;28;01mfor\u001b[39;00m i \u001b[38;5;129;01min\u001b[39;00m review :\n\u001b[0;32m      3\u001b[0m     \u001b[38;5;28mprint\u001b[39m(i\u001b[38;5;241m.\u001b[39mtext)\n\u001b[1;32m----> 5\u001b[0m rating \u001b[38;5;241m=\u001b[39m \u001b[43mdriver\u001b[49m\u001b[38;5;241;43m.\u001b[39;49m\u001b[43mfind_elements\u001b[49m\u001b[43m(\u001b[49m\u001b[43mBy\u001b[49m\u001b[38;5;241;43m.\u001b[39;49m\u001b[43mXPATH\u001b[49m\u001b[43m,\u001b[49m\u001b[38;5;124;43m'\u001b[39;49m\u001b[38;5;124;43m//div-@class=\u001b[39;49m\u001b[38;5;124;43m\"\u001b[39;49m\u001b[38;5;124;43m_3LWZlK _1BLPMq\u001b[39;49m\u001b[38;5;124;43m\"\u001b[39;49m\u001b[38;5;124;43m]\u001b[39;49m\u001b[38;5;124;43m'\u001b[39;49m\u001b[43m)\u001b[49m\n\u001b[0;32m      6\u001b[0m \u001b[38;5;28;01mfor\u001b[39;00m i \u001b[38;5;129;01min\u001b[39;00m rating:\n\u001b[0;32m      7\u001b[0m     \u001b[38;5;28mprint\u001b[39m(i\u001b[38;5;241m.\u001b[39mtext)\n",
      "File \u001b[1;32m~\\anaconda3\\lib\\site-packages\\selenium\\webdriver\\remote\\webdriver.py:888\u001b[0m, in \u001b[0;36mWebDriver.find_elements\u001b[1;34m(self, by, value)\u001b[0m\n\u001b[0;32m    884\u001b[0m     value \u001b[38;5;241m=\u001b[39m \u001b[38;5;124m'\u001b[39m\u001b[38;5;124m[name=\u001b[39m\u001b[38;5;124m\"\u001b[39m\u001b[38;5;132;01m%s\u001b[39;00m\u001b[38;5;124m\"\u001b[39m\u001b[38;5;124m]\u001b[39m\u001b[38;5;124m'\u001b[39m \u001b[38;5;241m%\u001b[39m value\n\u001b[0;32m    886\u001b[0m \u001b[38;5;66;03m# Return empty list if driver returns null\u001b[39;00m\n\u001b[0;32m    887\u001b[0m \u001b[38;5;66;03m# See https://github.com/SeleniumHQ/selenium/issues/4555\u001b[39;00m\n\u001b[1;32m--> 888\u001b[0m \u001b[38;5;28;01mreturn\u001b[39;00m \u001b[38;5;28;43mself\u001b[39;49m\u001b[38;5;241;43m.\u001b[39;49m\u001b[43mexecute\u001b[49m\u001b[43m(\u001b[49m\u001b[43mCommand\u001b[49m\u001b[38;5;241;43m.\u001b[39;49m\u001b[43mFIND_ELEMENTS\u001b[49m\u001b[43m,\u001b[49m\u001b[43m \u001b[49m\u001b[43m{\u001b[49m\n\u001b[0;32m    889\u001b[0m \u001b[43m    \u001b[49m\u001b[38;5;124;43m'\u001b[39;49m\u001b[38;5;124;43musing\u001b[39;49m\u001b[38;5;124;43m'\u001b[39;49m\u001b[43m:\u001b[49m\u001b[43m \u001b[49m\u001b[43mby\u001b[49m\u001b[43m,\u001b[49m\n\u001b[0;32m    890\u001b[0m \u001b[43m    \u001b[49m\u001b[38;5;124;43m'\u001b[39;49m\u001b[38;5;124;43mvalue\u001b[39;49m\u001b[38;5;124;43m'\u001b[39;49m\u001b[43m:\u001b[49m\u001b[43m \u001b[49m\u001b[43mvalue\u001b[49m\u001b[43m}\u001b[49m\u001b[43m)\u001b[49m[\u001b[38;5;124m'\u001b[39m\u001b[38;5;124mvalue\u001b[39m\u001b[38;5;124m'\u001b[39m] \u001b[38;5;129;01mor\u001b[39;00m []\n",
      "File \u001b[1;32m~\\anaconda3\\lib\\site-packages\\selenium\\webdriver\\remote\\webdriver.py:428\u001b[0m, in \u001b[0;36mWebDriver.execute\u001b[1;34m(self, driver_command, params)\u001b[0m\n\u001b[0;32m    426\u001b[0m response \u001b[38;5;241m=\u001b[39m \u001b[38;5;28mself\u001b[39m\u001b[38;5;241m.\u001b[39mcommand_executor\u001b[38;5;241m.\u001b[39mexecute(driver_command, params)\n\u001b[0;32m    427\u001b[0m \u001b[38;5;28;01mif\u001b[39;00m response:\n\u001b[1;32m--> 428\u001b[0m     \u001b[38;5;28;43mself\u001b[39;49m\u001b[38;5;241;43m.\u001b[39;49m\u001b[43merror_handler\u001b[49m\u001b[38;5;241;43m.\u001b[39;49m\u001b[43mcheck_response\u001b[49m\u001b[43m(\u001b[49m\u001b[43mresponse\u001b[49m\u001b[43m)\u001b[49m\n\u001b[0;32m    429\u001b[0m     response[\u001b[38;5;124m'\u001b[39m\u001b[38;5;124mvalue\u001b[39m\u001b[38;5;124m'\u001b[39m] \u001b[38;5;241m=\u001b[39m \u001b[38;5;28mself\u001b[39m\u001b[38;5;241m.\u001b[39m_unwrap_value(\n\u001b[0;32m    430\u001b[0m         response\u001b[38;5;241m.\u001b[39mget(\u001b[38;5;124m'\u001b[39m\u001b[38;5;124mvalue\u001b[39m\u001b[38;5;124m'\u001b[39m, \u001b[38;5;28;01mNone\u001b[39;00m))\n\u001b[0;32m    431\u001b[0m     \u001b[38;5;28;01mreturn\u001b[39;00m response\n",
      "File \u001b[1;32m~\\anaconda3\\lib\\site-packages\\selenium\\webdriver\\remote\\errorhandler.py:243\u001b[0m, in \u001b[0;36mErrorHandler.check_response\u001b[1;34m(self, response)\u001b[0m\n\u001b[0;32m    241\u001b[0m         alert_text \u001b[38;5;241m=\u001b[39m value[\u001b[38;5;124m'\u001b[39m\u001b[38;5;124malert\u001b[39m\u001b[38;5;124m'\u001b[39m]\u001b[38;5;241m.\u001b[39mget(\u001b[38;5;124m'\u001b[39m\u001b[38;5;124mtext\u001b[39m\u001b[38;5;124m'\u001b[39m)\n\u001b[0;32m    242\u001b[0m     \u001b[38;5;28;01mraise\u001b[39;00m exception_class(message, screen, stacktrace, alert_text)  \u001b[38;5;66;03m# type: ignore[call-arg]  # mypy is not smart enough here\u001b[39;00m\n\u001b[1;32m--> 243\u001b[0m \u001b[38;5;28;01mraise\u001b[39;00m exception_class(message, screen, stacktrace)\n",
      "\u001b[1;31mInvalidSelectorException\u001b[0m: Message: invalid selector: Unable to locate an element with the xpath expression //div-@class=\"_3LWZlK _1BLPMq\"] because of the following error:\nSyntaxError: Failed to execute 'evaluate' on 'Document': The string '//div-@class=\"_3LWZlK _1BLPMq\"]' is not a valid XPath expression.\n  (Session info: chrome=105.0.5195.102)\nStacktrace:\nBacktrace:\n\tOrdinal0 [0x0047DF13+2219795]\n\tOrdinal0 [0x00412841+1779777]\n\tOrdinal0 [0x0032423D+803389]\n\tOrdinal0 [0x00326D04+814340]\n\tOrdinal0 [0x00326BC2+814018]\n\tOrdinal0 [0x00326E50+814672]\n\tOrdinal0 [0x00352D4F+994639]\n\tOrdinal0 [0x003531EB+995819]\n\tOrdinal0 [0x00380F8C+1183628]\n\tOrdinal0 [0x0036E844+1108036]\n\tOrdinal0 [0x0037F192+1175954]\n\tOrdinal0 [0x0036E616+1107478]\n\tOrdinal0 [0x00347F89+950153]\n\tOrdinal0 [0x00348F56+954198]\n\tGetHandleVerifier [0x00772CB2+3040210]\n\tGetHandleVerifier [0x00762BB4+2974420]\n\tGetHandleVerifier [0x00516A0A+565546]\n\tGetHandleVerifier [0x00515680+560544]\n\tOrdinal0 [0x00419A5C+1808988]\n\tOrdinal0 [0x0041E3A8+1827752]\n\tOrdinal0 [0x0041E495+1827989]\n\tOrdinal0 [0x004280A4+1867940]\n\tBaseThreadInitThunk [0x76036739+25]\n\tRtlGetFullPathName_UEx [0x778F90AF+1215]\n\tRtlGetFullPathName_UEx [0x778F907D+1165]\n"
     ]
    }
   ],
   "source": [
    "review = driver.find_elements(By.CLASS_NAME,\"row\")\n",
    "for i in review :\n",
    "    print(i.text)\n",
    "    \n",
    "rating = driver.find_elements(By.XPATH,'//div-@class=\"_3LWZlK _1BLPMq\"]')\n",
    "for i in rating:\n",
    "    print(i.text)\n",
    "    \n",
    "review_summary = driver.find_elements(By.XPATH,'//p[@class=\"_2-N8zT\"]')\n",
    "for i in review_summary:\n",
    "    print(i.text)\n",
    "\n",
    "all_reviews = driver.find_element(By.XPATH,'//div[@class=\"_3UAT2v _16PBlm\"]')\n",
    "all.reviews.click()"
   ]
  },
  {
   "cell_type": "code",
   "execution_count": 29,
   "id": "672e276f",
   "metadata": {},
   "outputs": [
    {
     "name": "stdout",
     "output_type": "stream",
     "text": [
      "scraping_page 1\n",
      "scraping_page 2\n",
      "scraping_page 3\n",
      "scraping_page 4\n",
      "scraping_page 5\n",
      "scraping_page 6\n",
      "scraping_page 7\n",
      "scraping_page 8\n",
      "scraping_page 9\n",
      "scraping_page 10\n",
      "scraping_page 11\n",
      "scraping_page 12\n",
      "scraping_page 13\n",
      "scraping_page 14\n",
      "scraping_page 15\n",
      "scraping_page 16\n",
      "scraping_page 17\n",
      "scraping_page 18\n",
      "scraping_page 19\n",
      "scraping_page 20\n"
     ]
    }
   ],
   "source": [
    "Ratings = []\n",
    "Reviews = []\n",
    "Review_summary = []\n",
    "\n",
    "for i in range(20):\n",
    "    print('scraping_page',i+1)\n",
    "   \n",
    "    rating= driver.find_elements(By.XPATH,'//div[@class=\"_3LWZlK _1BLPMq\"]')\n",
    "    for i in rating:\n",
    "        Ratings.append(i.text)\n",
    "        \n",
    "    review = driver.find_elements(By.XPATH,'//p[@class=\"_2-N8zT\"]')\n",
    "    for i in review:\n",
    "        Reviews.append(i.text)\n",
    "    \n",
    "    review_summary = driver.find_elements(By.XPATH,'//div[@class=\"row\"]')\n",
    "    for i in review_summary:\n",
    "        Review_summary.append(i.text)"
   ]
  },
  {
   "cell_type": "code",
   "execution_count": 28,
   "id": "c260f846",
   "metadata": {},
   "outputs": [
    {
     "data": {
      "text/plain": [
       "120"
      ]
     },
     "execution_count": 28,
     "metadata": {},
     "output_type": "execute_result"
    }
   ],
   "source": [
    "len(Reviews)"
   ]
  },
  {
   "cell_type": "code",
   "execution_count": null,
   "id": "660b5a03",
   "metadata": {},
   "outputs": [],
   "source": [
    "len(Reviews)"
   ]
  },
  {
   "cell_type": "markdown",
   "id": "f7e61f15",
   "metadata": {},
   "source": [
    "# Q.6"
   ]
  },
  {
   "cell_type": "code",
   "execution_count": 2,
   "id": "dbfceb6e",
   "metadata": {},
   "outputs": [],
   "source": [
    "from selenium import webdriver\n",
    "from time import sleep"
   ]
  },
  {
   "cell_type": "code",
   "execution_count": 3,
   "id": "519f3ef3",
   "metadata": {},
   "outputs": [
    {
     "name": "stderr",
     "output_type": "stream",
     "text": [
      "C:\\Users\\Swati\\AppData\\Local\\Temp\\ipykernel_10096\\1761229029.py:1: DeprecationWarning: executable_path has been deprecated, please pass in a Service object\n",
      "  driver = webdriver.Chrome(r\"C:\\Users\\Swati\\OneDrive\\Desktop\\DataScience\\chromedriver.exe\")\n"
     ]
    }
   ],
   "source": [
    "driver = webdriver.Chrome(r\"C:\\Users\\Swati\\OneDrive\\Desktop\\DataScience\\chromedriver.exe\")"
   ]
  },
  {
   "cell_type": "code",
   "execution_count": 49,
   "id": "7eac32ca",
   "metadata": {},
   "outputs": [],
   "source": [
    "driver.get(\"https://www.flipkart.com/\")"
   ]
  },
  {
   "cell_type": "code",
   "execution_count": 50,
   "id": "bd1a58b6",
   "metadata": {},
   "outputs": [],
   "source": [
    "driver.maximize_window()"
   ]
  },
  {
   "cell_type": "code",
   "execution_count": 51,
   "id": "1ffeff42",
   "metadata": {},
   "outputs": [],
   "source": [
    "try :\n",
    "    driver.find_element(By.XPATH,'//button[@class=\"_2KpZ6l _2doB4z\"]').click()\n",
    "except :\n",
    "    pass"
   ]
  },
  {
   "cell_type": "code",
   "execution_count": 52,
   "id": "6c0111b9",
   "metadata": {},
   "outputs": [],
   "source": [
    "input_search = driver.find_element(By.XPATH,'//input[@class=\"_3704LK\"]')\n",
    "search_button = driver.find_element(By.XPATH,'//button[@class=\"L0Z3Pu\"]')"
   ]
  },
  {
   "cell_type": "code",
   "execution_count": 53,
   "id": "ad0719cd",
   "metadata": {},
   "outputs": [],
   "source": [
    "input_search.send_keys(\"sneakers\")\n",
    "sleep(1)\n",
    "search_button.click()"
   ]
  },
  {
   "cell_type": "code",
   "execution_count": 54,
   "id": "7beec8be",
   "metadata": {},
   "outputs": [
    {
     "name": "stdout",
     "output_type": "stream",
     "text": [
      "scraping_page 1\n",
      "scraping_page 2\n",
      "scraping_page 3\n"
     ]
    }
   ],
   "source": [
    "brand = []\n",
    "product_description = []\n",
    "price = []\n",
    "percent_off = []\n",
    "\n",
    "for i in range(3):\n",
    "    print('scraping_page',i+1)\n",
    "    brand_name = driver.find_elements(By.XPATH,'//div[@class=\"_2WkVRV\"]')\n",
    "    for p in brand_name:\n",
    "        brand.append(p.text)\n",
    "    brand[:100]\n",
    "        \n",
    "    description = driver.find_elements(By.XPATH,'//a[@class=\"IRpwTa\"]')\n",
    "    for p in description:\n",
    "        product_description.append(p.text)\n",
    "    product_description[:100]\n",
    "        \n",
    "    product_price = driver.find_elements(By.XPATH,'//div[@class=\"_30jeq3\"]')\n",
    "    for p in product_price:\n",
    "        price.append(p.text)\n",
    "    price[:100]\n",
    "        \n",
    "    off= driver.find_elements(By.XPATH,'//div[@class=\"_3Ay6Sb\"]')\n",
    "    for p in off:\n",
    "        percent_off.append(p.text)\n",
    "    percent_off[:100]"
   ]
  },
  {
   "cell_type": "code",
   "execution_count": 59,
   "id": "e4c38682",
   "metadata": {},
   "outputs": [
    {
     "data": {
      "text/plain": [
       "100"
      ]
     },
     "execution_count": 59,
     "metadata": {},
     "output_type": "execute_result"
    }
   ],
   "source": [
    "len(brand[:100])"
   ]
  },
  {
   "cell_type": "code",
   "execution_count": 60,
   "id": "5feaa061",
   "metadata": {},
   "outputs": [
    {
     "data": {
      "text/plain": [
       "100"
      ]
     },
     "execution_count": 60,
     "metadata": {},
     "output_type": "execute_result"
    }
   ],
   "source": [
    "len(product_description[:100])"
   ]
  },
  {
   "cell_type": "code",
   "execution_count": 61,
   "id": "3603e33b",
   "metadata": {},
   "outputs": [
    {
     "data": {
      "text/plain": [
       "100"
      ]
     },
     "execution_count": 61,
     "metadata": {},
     "output_type": "execute_result"
    }
   ],
   "source": [
    "len(price[:100])"
   ]
  },
  {
   "cell_type": "code",
   "execution_count": 62,
   "id": "62ec11eb",
   "metadata": {},
   "outputs": [
    {
     "data": {
      "text/plain": [
       "100"
      ]
     },
     "execution_count": 62,
     "metadata": {},
     "output_type": "execute_result"
    }
   ],
   "source": [
    "len(percent_off[:100])"
   ]
  },
  {
   "cell_type": "code",
   "execution_count": 63,
   "id": "97068234",
   "metadata": {},
   "outputs": [],
   "source": [
    "import pandas as pd"
   ]
  },
  {
   "cell_type": "code",
   "execution_count": 65,
   "id": "cf477b44",
   "metadata": {},
   "outputs": [
    {
     "data": {
      "text/html": [
       "<div>\n",
       "<style scoped>\n",
       "    .dataframe tbody tr th:only-of-type {\n",
       "        vertical-align: middle;\n",
       "    }\n",
       "\n",
       "    .dataframe tbody tr th {\n",
       "        vertical-align: top;\n",
       "    }\n",
       "\n",
       "    .dataframe thead th {\n",
       "        text-align: right;\n",
       "    }\n",
       "</style>\n",
       "<table border=\"1\" class=\"dataframe\">\n",
       "  <thead>\n",
       "    <tr style=\"text-align: right;\">\n",
       "      <th></th>\n",
       "      <th>Brand</th>\n",
       "      <th>Prod_Description</th>\n",
       "      <th>Price</th>\n",
       "      <th>Percent_Off</th>\n",
       "    </tr>\n",
       "  </thead>\n",
       "  <tbody>\n",
       "    <tr>\n",
       "      <th>0</th>\n",
       "      <td>Labbin</td>\n",
       "      <td>Sneakers For Men</td>\n",
       "      <td>₹329</td>\n",
       "      <td>67% off</td>\n",
       "    </tr>\n",
       "    <tr>\n",
       "      <th>1</th>\n",
       "      <td>Chevit</td>\n",
       "      <td>Super Stylish &amp; Trendy Combo Pack of 02 Pairs ...</td>\n",
       "      <td>₹498</td>\n",
       "      <td>73% off</td>\n",
       "    </tr>\n",
       "    <tr>\n",
       "      <th>2</th>\n",
       "      <td>BRUTON</td>\n",
       "      <td>Lightweight Pack Of 1 Trendy Sneakers Sneakers...</td>\n",
       "      <td>₹179</td>\n",
       "      <td>70% off</td>\n",
       "    </tr>\n",
       "    <tr>\n",
       "      <th>3</th>\n",
       "      <td>Shozie</td>\n",
       "      <td>Sneakers For Men</td>\n",
       "      <td>₹389</td>\n",
       "      <td>61% off</td>\n",
       "    </tr>\n",
       "    <tr>\n",
       "      <th>4</th>\n",
       "      <td>aadi</td>\n",
       "      <td>Sneakers For Men</td>\n",
       "      <td>₹279</td>\n",
       "      <td>72% off</td>\n",
       "    </tr>\n",
       "    <tr>\n",
       "      <th>...</th>\n",
       "      <td>...</td>\n",
       "      <td>...</td>\n",
       "      <td>...</td>\n",
       "      <td>...</td>\n",
       "    </tr>\n",
       "    <tr>\n",
       "      <th>95</th>\n",
       "      <td>SCATCHITE</td>\n",
       "      <td>Sneakers Sneakers For Men</td>\n",
       "      <td>₹360</td>\n",
       "      <td>63% off</td>\n",
       "    </tr>\n",
       "    <tr>\n",
       "      <th>96</th>\n",
       "      <td>DUNKASTON</td>\n",
       "      <td>Casual Sneakers For Men</td>\n",
       "      <td>₹299</td>\n",
       "      <td>80% off</td>\n",
       "    </tr>\n",
       "    <tr>\n",
       "      <th>97</th>\n",
       "      <td>asian</td>\n",
       "      <td>Skypy-31 Walking Shoes,Training Shoes,Sneakers...</td>\n",
       "      <td>₹419</td>\n",
       "      <td>47% off</td>\n",
       "    </tr>\n",
       "    <tr>\n",
       "      <th>98</th>\n",
       "      <td>Kraasa</td>\n",
       "      <td>Casuals, Canvas, Partywear Sneakers For Men</td>\n",
       "      <td>₹428</td>\n",
       "      <td>57% off</td>\n",
       "    </tr>\n",
       "    <tr>\n",
       "      <th>99</th>\n",
       "      <td>Robbie jones</td>\n",
       "      <td>Sneakers For Men</td>\n",
       "      <td>₹394</td>\n",
       "      <td>60% off</td>\n",
       "    </tr>\n",
       "  </tbody>\n",
       "</table>\n",
       "<p>100 rows × 4 columns</p>\n",
       "</div>"
      ],
      "text/plain": [
       "           Brand                                   Prod_Description Price  \\\n",
       "0         Labbin                                   Sneakers For Men  ₹329   \n",
       "1         Chevit  Super Stylish & Trendy Combo Pack of 02 Pairs ...  ₹498   \n",
       "2         BRUTON  Lightweight Pack Of 1 Trendy Sneakers Sneakers...  ₹179   \n",
       "3         Shozie                                   Sneakers For Men  ₹389   \n",
       "4           aadi                                   Sneakers For Men  ₹279   \n",
       "..           ...                                                ...   ...   \n",
       "95     SCATCHITE                          Sneakers Sneakers For Men  ₹360   \n",
       "96     DUNKASTON                            Casual Sneakers For Men  ₹299   \n",
       "97         asian  Skypy-31 Walking Shoes,Training Shoes,Sneakers...  ₹419   \n",
       "98        Kraasa        Casuals, Canvas, Partywear Sneakers For Men  ₹428   \n",
       "99  Robbie jones                                   Sneakers For Men  ₹394   \n",
       "\n",
       "   Percent_Off  \n",
       "0      67% off  \n",
       "1      73% off  \n",
       "2      70% off  \n",
       "3      61% off  \n",
       "4      72% off  \n",
       "..         ...  \n",
       "95     63% off  \n",
       "96     80% off  \n",
       "97     47% off  \n",
       "98     57% off  \n",
       "99     60% off  \n",
       "\n",
       "[100 rows x 4 columns]"
      ]
     },
     "execution_count": 65,
     "metadata": {},
     "output_type": "execute_result"
    }
   ],
   "source": [
    "df = pd.DataFrame({'Brand':brand[:100],'Prod_Description':product_description[:100],'Price':price[:100],'Percent_Off':percent_off[:100]})\n",
    "df"
   ]
  },
  {
   "cell_type": "markdown",
   "id": "a3718b63",
   "metadata": {},
   "source": [
    "# Q.7."
   ]
  },
  {
   "cell_type": "code",
   "execution_count": 3,
   "id": "95dcca58",
   "metadata": {},
   "outputs": [],
   "source": [
    "from selenium import webdriver\n",
    "from time import sleep"
   ]
  },
  {
   "cell_type": "code",
   "execution_count": 4,
   "id": "8bf10c62",
   "metadata": {},
   "outputs": [],
   "source": [
    "driver = webdriver.Chrome(r\"C:\\Users\\Swati\\OneDrive\\Desktop\\DataScience\\chromedriver.exe\")"
   ]
  },
  {
   "cell_type": "code",
   "execution_count": 5,
   "id": "b0853ca7",
   "metadata": {},
   "outputs": [],
   "source": [
    "driver.get(\"https://www.myntra.com/shoes\")"
   ]
  },
  {
   "cell_type": "code",
   "execution_count": 6,
   "id": "8a9c6591",
   "metadata": {},
   "outputs": [],
   "source": [
    "driver.maximize_window()"
   ]
  },
  {
   "cell_type": "code",
   "execution_count": 7,
   "id": "90611e96",
   "metadata": {},
   "outputs": [],
   "source": [
    "colour_filter = driver.find_element(By.XPATH,'//span[@class=\"colour-label colour-colorDisplay\"]')\n",
    "\n",
    "colour_filter.click()"
   ]
  },
  {
   "cell_type": "code",
   "execution_count": 12,
   "id": "f4b65792",
   "metadata": {},
   "outputs": [
    {
     "ename": "InvalidSelectorException",
     "evalue": "Message: invalid selector: Unable to locate an element with the xpath expression <span class=\"vertical-filters-header\">Price</span> because of the following error:\nSyntaxError: Failed to execute 'evaluate' on 'Document': The string '<span class=\"vertical-filters-header\">Price</span>' is not a valid XPath expression.\n  (Session info: chrome=105.0.5195.102)\nStacktrace:\nBacktrace:\n\tOrdinal0 [0x0062DF13+2219795]\n\tOrdinal0 [0x005C2841+1779777]\n\tOrdinal0 [0x004D423D+803389]\n\tOrdinal0 [0x004D6D04+814340]\n\tOrdinal0 [0x004D6BC2+814018]\n\tOrdinal0 [0x004D6E50+814672]\n\tOrdinal0 [0x00502D4F+994639]\n\tOrdinal0 [0x005031EB+995819]\n\tOrdinal0 [0x00530F52+1183570]\n\tOrdinal0 [0x0051E844+1108036]\n\tOrdinal0 [0x0052F192+1175954]\n\tOrdinal0 [0x0051E616+1107478]\n\tOrdinal0 [0x004F7F89+950153]\n\tOrdinal0 [0x004F8F56+954198]\n\tGetHandleVerifier [0x00922CB2+3040210]\n\tGetHandleVerifier [0x00912BB4+2974420]\n\tGetHandleVerifier [0x006C6A0A+565546]\n\tGetHandleVerifier [0x006C5680+560544]\n\tOrdinal0 [0x005C9A5C+1808988]\n\tOrdinal0 [0x005CE3A8+1827752]\n\tOrdinal0 [0x005CE495+1827989]\n\tOrdinal0 [0x005D80A4+1867940]\n\tBaseThreadInitThunk [0x76036739+25]\n\tRtlGetFullPathName_UEx [0x778F90AF+1215]\n\tRtlGetFullPathName_UEx [0x778F907D+1165]\n",
     "output_type": "error",
     "traceback": [
      "\u001b[1;31m---------------------------------------------------------------------------\u001b[0m",
      "\u001b[1;31mInvalidSelectorException\u001b[0m                  Traceback (most recent call last)",
      "Input \u001b[1;32mIn [12]\u001b[0m, in \u001b[0;36m<cell line: 1>\u001b[1;34m()\u001b[0m\n\u001b[1;32m----> 1\u001b[0m price_filter \u001b[38;5;241m=\u001b[39m \u001b[43mdriver\u001b[49m\u001b[38;5;241;43m.\u001b[39;49m\u001b[43mfind_element\u001b[49m\u001b[43m(\u001b[49m\u001b[43mBy\u001b[49m\u001b[38;5;241;43m.\u001b[39;49m\u001b[43mXPATH\u001b[49m\u001b[43m,\u001b[49m\u001b[38;5;124;43m'\u001b[39;49m\u001b[38;5;124;43m<span class=\u001b[39;49m\u001b[38;5;124;43m\"\u001b[39;49m\u001b[38;5;124;43mvertical-filters-header\u001b[39;49m\u001b[38;5;124;43m\"\u001b[39;49m\u001b[38;5;124;43m>Price</span>\u001b[39;49m\u001b[38;5;124;43m'\u001b[39;49m\u001b[43m)\u001b[49m\n\u001b[0;32m      2\u001b[0m price_filter\u001b[38;5;241m.\u001b[39mclick()\n",
      "File \u001b[1;32m~\\anaconda3\\lib\\site-packages\\selenium\\webdriver\\remote\\webdriver.py:855\u001b[0m, in \u001b[0;36mWebDriver.find_element\u001b[1;34m(self, by, value)\u001b[0m\n\u001b[0;32m    852\u001b[0m     by \u001b[38;5;241m=\u001b[39m By\u001b[38;5;241m.\u001b[39mCSS_SELECTOR\n\u001b[0;32m    853\u001b[0m     value \u001b[38;5;241m=\u001b[39m \u001b[38;5;124m'\u001b[39m\u001b[38;5;124m[name=\u001b[39m\u001b[38;5;124m\"\u001b[39m\u001b[38;5;132;01m%s\u001b[39;00m\u001b[38;5;124m\"\u001b[39m\u001b[38;5;124m]\u001b[39m\u001b[38;5;124m'\u001b[39m \u001b[38;5;241m%\u001b[39m value\n\u001b[1;32m--> 855\u001b[0m \u001b[38;5;28;01mreturn\u001b[39;00m \u001b[38;5;28;43mself\u001b[39;49m\u001b[38;5;241;43m.\u001b[39;49m\u001b[43mexecute\u001b[49m\u001b[43m(\u001b[49m\u001b[43mCommand\u001b[49m\u001b[38;5;241;43m.\u001b[39;49m\u001b[43mFIND_ELEMENT\u001b[49m\u001b[43m,\u001b[49m\u001b[43m \u001b[49m\u001b[43m{\u001b[49m\n\u001b[0;32m    856\u001b[0m \u001b[43m    \u001b[49m\u001b[38;5;124;43m'\u001b[39;49m\u001b[38;5;124;43musing\u001b[39;49m\u001b[38;5;124;43m'\u001b[39;49m\u001b[43m:\u001b[49m\u001b[43m \u001b[49m\u001b[43mby\u001b[49m\u001b[43m,\u001b[49m\n\u001b[0;32m    857\u001b[0m \u001b[43m    \u001b[49m\u001b[38;5;124;43m'\u001b[39;49m\u001b[38;5;124;43mvalue\u001b[39;49m\u001b[38;5;124;43m'\u001b[39;49m\u001b[43m:\u001b[49m\u001b[43m \u001b[49m\u001b[43mvalue\u001b[49m\u001b[43m}\u001b[49m\u001b[43m)\u001b[49m[\u001b[38;5;124m'\u001b[39m\u001b[38;5;124mvalue\u001b[39m\u001b[38;5;124m'\u001b[39m]\n",
      "File \u001b[1;32m~\\anaconda3\\lib\\site-packages\\selenium\\webdriver\\remote\\webdriver.py:428\u001b[0m, in \u001b[0;36mWebDriver.execute\u001b[1;34m(self, driver_command, params)\u001b[0m\n\u001b[0;32m    426\u001b[0m response \u001b[38;5;241m=\u001b[39m \u001b[38;5;28mself\u001b[39m\u001b[38;5;241m.\u001b[39mcommand_executor\u001b[38;5;241m.\u001b[39mexecute(driver_command, params)\n\u001b[0;32m    427\u001b[0m \u001b[38;5;28;01mif\u001b[39;00m response:\n\u001b[1;32m--> 428\u001b[0m     \u001b[38;5;28;43mself\u001b[39;49m\u001b[38;5;241;43m.\u001b[39;49m\u001b[43merror_handler\u001b[49m\u001b[38;5;241;43m.\u001b[39;49m\u001b[43mcheck_response\u001b[49m\u001b[43m(\u001b[49m\u001b[43mresponse\u001b[49m\u001b[43m)\u001b[49m\n\u001b[0;32m    429\u001b[0m     response[\u001b[38;5;124m'\u001b[39m\u001b[38;5;124mvalue\u001b[39m\u001b[38;5;124m'\u001b[39m] \u001b[38;5;241m=\u001b[39m \u001b[38;5;28mself\u001b[39m\u001b[38;5;241m.\u001b[39m_unwrap_value(\n\u001b[0;32m    430\u001b[0m         response\u001b[38;5;241m.\u001b[39mget(\u001b[38;5;124m'\u001b[39m\u001b[38;5;124mvalue\u001b[39m\u001b[38;5;124m'\u001b[39m, \u001b[38;5;28;01mNone\u001b[39;00m))\n\u001b[0;32m    431\u001b[0m     \u001b[38;5;28;01mreturn\u001b[39;00m response\n",
      "File \u001b[1;32m~\\anaconda3\\lib\\site-packages\\selenium\\webdriver\\remote\\errorhandler.py:243\u001b[0m, in \u001b[0;36mErrorHandler.check_response\u001b[1;34m(self, response)\u001b[0m\n\u001b[0;32m    241\u001b[0m         alert_text \u001b[38;5;241m=\u001b[39m value[\u001b[38;5;124m'\u001b[39m\u001b[38;5;124malert\u001b[39m\u001b[38;5;124m'\u001b[39m]\u001b[38;5;241m.\u001b[39mget(\u001b[38;5;124m'\u001b[39m\u001b[38;5;124mtext\u001b[39m\u001b[38;5;124m'\u001b[39m)\n\u001b[0;32m    242\u001b[0m     \u001b[38;5;28;01mraise\u001b[39;00m exception_class(message, screen, stacktrace, alert_text)  \u001b[38;5;66;03m# type: ignore[call-arg]  # mypy is not smart enough here\u001b[39;00m\n\u001b[1;32m--> 243\u001b[0m \u001b[38;5;28;01mraise\u001b[39;00m exception_class(message, screen, stacktrace)\n",
      "\u001b[1;31mInvalidSelectorException\u001b[0m: Message: invalid selector: Unable to locate an element with the xpath expression <span class=\"vertical-filters-header\">Price</span> because of the following error:\nSyntaxError: Failed to execute 'evaluate' on 'Document': The string '<span class=\"vertical-filters-header\">Price</span>' is not a valid XPath expression.\n  (Session info: chrome=105.0.5195.102)\nStacktrace:\nBacktrace:\n\tOrdinal0 [0x0062DF13+2219795]\n\tOrdinal0 [0x005C2841+1779777]\n\tOrdinal0 [0x004D423D+803389]\n\tOrdinal0 [0x004D6D04+814340]\n\tOrdinal0 [0x004D6BC2+814018]\n\tOrdinal0 [0x004D6E50+814672]\n\tOrdinal0 [0x00502D4F+994639]\n\tOrdinal0 [0x005031EB+995819]\n\tOrdinal0 [0x00530F52+1183570]\n\tOrdinal0 [0x0051E844+1108036]\n\tOrdinal0 [0x0052F192+1175954]\n\tOrdinal0 [0x0051E616+1107478]\n\tOrdinal0 [0x004F7F89+950153]\n\tOrdinal0 [0x004F8F56+954198]\n\tGetHandleVerifier [0x00922CB2+3040210]\n\tGetHandleVerifier [0x00912BB4+2974420]\n\tGetHandleVerifier [0x006C6A0A+565546]\n\tGetHandleVerifier [0x006C5680+560544]\n\tOrdinal0 [0x005C9A5C+1808988]\n\tOrdinal0 [0x005CE3A8+1827752]\n\tOrdinal0 [0x005CE495+1827989]\n\tOrdinal0 [0x005D80A4+1867940]\n\tBaseThreadInitThunk [0x76036739+25]\n\tRtlGetFullPathName_UEx [0x778F90AF+1215]\n\tRtlGetFullPathName_UEx [0x778F907D+1165]\n"
     ]
    }
   ],
   "source": [
    "price_filter = driver.find_element(By.XPATH,'<span class=\"vertical-filters-header\">Price</span>')\n",
    "price_filter.click()"
   ]
  },
  {
   "cell_type": "code",
   "execution_count": 82,
   "id": "10d5033f",
   "metadata": {},
   "outputs": [],
   "source": [
    "Brand = []\n",
    "Description = []\n",
    "Price = []"
   ]
  },
  {
   "cell_type": "code",
   "execution_count": 85,
   "id": "368f16ef",
   "metadata": {},
   "outputs": [],
   "source": [
    "for i in range(2):\n",
    "    brand = driver.find_elements(By.XPATH,'//h3[@class =\"product-brand\"]')\n",
    "    for j in brand:\n",
    "        Brand.append(j.text)\n",
    "    Brand[:100]\n",
    "    \n",
    "    description = driver.find_elements(By.XPATH,'//h4[@class =\"product-product\"]')\n",
    "    for j in description:\n",
    "        Description.append(j.text)\n",
    "    Description[:100]\n",
    "    \n",
    "    price = driver.find_elements(By.XPATH,'//div[@class =\"product-price\"]')\n",
    "    for j in price:\n",
    "        Price.append(j.text)\n",
    "    Price[:100]"
   ]
  },
  {
   "cell_type": "code",
   "execution_count": 86,
   "id": "1246c951",
   "metadata": {
    "scrolled": true
   },
   "outputs": [
    {
     "name": "stdout",
     "output_type": "stream",
     "text": [
      "100 100 100\n"
     ]
    }
   ],
   "source": [
    "print(len(Brand[:100]),len(Description[:100]),len(Price[:100]))"
   ]
  },
  {
   "cell_type": "code",
   "execution_count": 87,
   "id": "c0b2d42c",
   "metadata": {},
   "outputs": [],
   "source": [
    "import pandas as pd"
   ]
  },
  {
   "cell_type": "code",
   "execution_count": 88,
   "id": "0a6f8fd9",
   "metadata": {},
   "outputs": [
    {
     "data": {
      "text/html": [
       "<div>\n",
       "<style scoped>\n",
       "    .dataframe tbody tr th:only-of-type {\n",
       "        vertical-align: middle;\n",
       "    }\n",
       "\n",
       "    .dataframe tbody tr th {\n",
       "        vertical-align: top;\n",
       "    }\n",
       "\n",
       "    .dataframe thead th {\n",
       "        text-align: right;\n",
       "    }\n",
       "</style>\n",
       "<table border=\"1\" class=\"dataframe\">\n",
       "  <thead>\n",
       "    <tr style=\"text-align: right;\">\n",
       "      <th></th>\n",
       "      <th>Brand</th>\n",
       "      <th>Description</th>\n",
       "      <th>Price</th>\n",
       "    </tr>\n",
       "  </thead>\n",
       "  <tbody>\n",
       "    <tr>\n",
       "      <th>0</th>\n",
       "      <td>ADIDAS Originals</td>\n",
       "      <td>Men Niteball II Sneakers</td>\n",
       "      <td>Rs. 9349</td>\n",
       "    </tr>\n",
       "    <tr>\n",
       "      <th>1</th>\n",
       "      <td>Nike</td>\n",
       "      <td>Men ZOOM WINFLO8 Running Shoes</td>\n",
       "      <td>Rs. 7880</td>\n",
       "    </tr>\n",
       "    <tr>\n",
       "      <th>2</th>\n",
       "      <td>Nike</td>\n",
       "      <td>Men React Infinity 3 Running</td>\n",
       "      <td>Rs. 13295</td>\n",
       "    </tr>\n",
       "    <tr>\n",
       "      <th>3</th>\n",
       "      <td>Tommy Hilfiger</td>\n",
       "      <td>Men Solid Sneakers</td>\n",
       "      <td>Rs. 10799</td>\n",
       "    </tr>\n",
       "    <tr>\n",
       "      <th>4</th>\n",
       "      <td>Puma</td>\n",
       "      <td>Eternity Nitro Running Shoes</td>\n",
       "      <td>Rs. 7999</td>\n",
       "    </tr>\n",
       "    <tr>\n",
       "      <th>...</th>\n",
       "      <td>...</td>\n",
       "      <td>...</td>\n",
       "      <td>...</td>\n",
       "    </tr>\n",
       "    <tr>\n",
       "      <th>95</th>\n",
       "      <td>PUMA Hoops</td>\n",
       "      <td>Fives Blaze Court Basketball</td>\n",
       "      <td>Rs. 9099Rs. 12999(30% OFF)</td>\n",
       "    </tr>\n",
       "    <tr>\n",
       "      <th>96</th>\n",
       "      <td>Skechers</td>\n",
       "      <td>Men Sky Vault Walking Shoes</td>\n",
       "      <td>Rs. 8999</td>\n",
       "    </tr>\n",
       "    <tr>\n",
       "      <th>97</th>\n",
       "      <td>ADIDAS Originals</td>\n",
       "      <td>Men Woven Nmd_R1 Sneakers</td>\n",
       "      <td>Rs. 7199Rs. 8999(20% OFF)</td>\n",
       "    </tr>\n",
       "    <tr>\n",
       "      <th>98</th>\n",
       "      <td>Bugatti</td>\n",
       "      <td>Men Walking Shoes</td>\n",
       "      <td>Rs. 8999</td>\n",
       "    </tr>\n",
       "    <tr>\n",
       "      <th>99</th>\n",
       "      <td>Tommy Hilfiger</td>\n",
       "      <td>Women Leather Sneakers</td>\n",
       "      <td>Rs. 7560Rs. 8895(15% OFF)</td>\n",
       "    </tr>\n",
       "  </tbody>\n",
       "</table>\n",
       "<p>100 rows × 3 columns</p>\n",
       "</div>"
      ],
      "text/plain": [
       "               Brand                     Description  \\\n",
       "0   ADIDAS Originals        Men Niteball II Sneakers   \n",
       "1               Nike  Men ZOOM WINFLO8 Running Shoes   \n",
       "2               Nike    Men React Infinity 3 Running   \n",
       "3     Tommy Hilfiger              Men Solid Sneakers   \n",
       "4               Puma    Eternity Nitro Running Shoes   \n",
       "..               ...                             ...   \n",
       "95        PUMA Hoops    Fives Blaze Court Basketball   \n",
       "96          Skechers     Men Sky Vault Walking Shoes   \n",
       "97  ADIDAS Originals       Men Woven Nmd_R1 Sneakers   \n",
       "98           Bugatti               Men Walking Shoes   \n",
       "99    Tommy Hilfiger          Women Leather Sneakers   \n",
       "\n",
       "                         Price  \n",
       "0                     Rs. 9349  \n",
       "1                     Rs. 7880  \n",
       "2                    Rs. 13295  \n",
       "3                    Rs. 10799  \n",
       "4                     Rs. 7999  \n",
       "..                         ...  \n",
       "95  Rs. 9099Rs. 12999(30% OFF)  \n",
       "96                    Rs. 8999  \n",
       "97   Rs. 7199Rs. 8999(20% OFF)  \n",
       "98                    Rs. 8999  \n",
       "99   Rs. 7560Rs. 8895(15% OFF)  \n",
       "\n",
       "[100 rows x 3 columns]"
      ]
     },
     "execution_count": 88,
     "metadata": {},
     "output_type": "execute_result"
    }
   ],
   "source": [
    "df = pd.DataFrame({'Brand':Brand[:100],'Description':Description[:100],'Price':Price[:100]})\n",
    "df"
   ]
  },
  {
   "cell_type": "markdown",
   "id": "c99d9efc",
   "metadata": {},
   "source": [
    "# Q.8."
   ]
  },
  {
   "cell_type": "code",
   "execution_count": 89,
   "id": "d7aa8b6b",
   "metadata": {},
   "outputs": [],
   "source": [
    "from selenium import webdriver\n",
    "from time import sleep"
   ]
  },
  {
   "cell_type": "code",
   "execution_count": 90,
   "id": "e35995f2",
   "metadata": {},
   "outputs": [],
   "source": [
    "driver = webdriver.Chrome(r\"C:\\Users\\Swati\\OneDrive\\Desktop\\DataScience\\chromedriver.exe\")"
   ]
  },
  {
   "cell_type": "code",
   "execution_count": 91,
   "id": "137fecbf",
   "metadata": {},
   "outputs": [],
   "source": [
    "driver.get(\"https://www.amazon.in/\")\n",
    "driver.maximize_window()"
   ]
  },
  {
   "cell_type": "code",
   "execution_count": 92,
   "id": "0176d4fc",
   "metadata": {},
   "outputs": [],
   "source": [
    "input_search = driver.find_element(By.XPATH,'//input[@class=\"nav-input nav-progressive-attribute\"]')\n",
    "search_button = driver.find_element(By.XPATH,'//div[@class=\"nav-search-submit nav-sprite\"]')"
   ]
  },
  {
   "cell_type": "code",
   "execution_count": 93,
   "id": "bee87add",
   "metadata": {},
   "outputs": [],
   "source": [
    "input_search.send_keys(\"Laptop\")\n",
    "time.sleep(1)\n",
    "search_button.click()"
   ]
  },
  {
   "cell_type": "code",
   "execution_count": 100,
   "id": "80290068",
   "metadata": {},
   "outputs": [],
   "source": [
    "filter_button = driver.find_elements(By.XPATH,'//span[@class=\"a-size-base a-color-base puis-bold-weight-text\"]')\n",
    "for i in filter_button:\n",
    "    if i.text == \"Intel Core i7\":\n",
    "        i.click()\n",
    "    break"
   ]
  },
  {
   "cell_type": "code",
   "execution_count": 101,
   "id": "d44c155a",
   "metadata": {},
   "outputs": [],
   "source": [
    "Title = []\n",
    "Rating = []\n",
    "Price = []"
   ]
  },
  {
   "cell_type": "code",
   "execution_count": 107,
   "id": "79fbca80",
   "metadata": {},
   "outputs": [
    {
     "data": {
      "text/plain": [
       "['82,990',\n",
       " '80,990',\n",
       " '1,06,999',\n",
       " '79,990',\n",
       " '1,07,990',\n",
       " '94,990',\n",
       " '1,60,999',\n",
       " '1,09,990',\n",
       " '94,990',\n",
       " '82,990']"
      ]
     },
     "execution_count": 107,
     "metadata": {},
     "output_type": "execute_result"
    }
   ],
   "source": [
    "title = driver.find_elements(By.XPATH,'//span[@class=\"a-size-medium a-color-base a-text-normal\"]')\n",
    "for j in title:\n",
    "    Title.append(j.text)\n",
    "Title[:10]\n",
    "    \n",
    "rating = driver.find_elements(By.XPATH,'//i[@class=\"a-icon a-icon-popover\"]')\n",
    "for j in rating:\n",
    "    Rating.append(j.text)\n",
    "Rating[:10]\n",
    "    \n",
    "price = driver.find_elements(By.XPATH,'//span[@class=\"a-price-whole\"]')\n",
    "for j in price:\n",
    "    Price.append(j.text)\n",
    "Price[:10]"
   ]
  },
  {
   "cell_type": "code",
   "execution_count": 108,
   "id": "cb847d8e",
   "metadata": {},
   "outputs": [
    {
     "name": "stdout",
     "output_type": "stream",
     "text": [
      "10 10 10\n"
     ]
    }
   ],
   "source": [
    "print(len(Title[:10]),len(Rating[:10]),len(Price[:10]))"
   ]
  },
  {
   "cell_type": "code",
   "execution_count": 109,
   "id": "5c6cae69",
   "metadata": {},
   "outputs": [
    {
     "data": {
      "text/html": [
       "<div>\n",
       "<style scoped>\n",
       "    .dataframe tbody tr th:only-of-type {\n",
       "        vertical-align: middle;\n",
       "    }\n",
       "\n",
       "    .dataframe tbody tr th {\n",
       "        vertical-align: top;\n",
       "    }\n",
       "\n",
       "    .dataframe thead th {\n",
       "        text-align: right;\n",
       "    }\n",
       "</style>\n",
       "<table border=\"1\" class=\"dataframe\">\n",
       "  <thead>\n",
       "    <tr style=\"text-align: right;\">\n",
       "      <th></th>\n",
       "      <th>Title</th>\n",
       "      <th>Rating</th>\n",
       "      <th>Price</th>\n",
       "    </tr>\n",
       "  </thead>\n",
       "  <tbody>\n",
       "    <tr>\n",
       "      <th>0</th>\n",
       "      <td>Lenovo IdeaPad Slim 5 Intel Core i7 12th Gen 1...</td>\n",
       "      <td></td>\n",
       "      <td>82,990</td>\n",
       "    </tr>\n",
       "    <tr>\n",
       "      <th>1</th>\n",
       "      <td>Lenovo ThinkBook 15 Intel 11th Gen Core i7 15....</td>\n",
       "      <td></td>\n",
       "      <td>80,990</td>\n",
       "    </tr>\n",
       "    <tr>\n",
       "      <th>2</th>\n",
       "      <td>Lenovo Yoga 7i 11th Gen Intel Core i7-1165G7 1...</td>\n",
       "      <td></td>\n",
       "      <td>1,06,999</td>\n",
       "    </tr>\n",
       "    <tr>\n",
       "      <th>3</th>\n",
       "      <td>ASUS Zenbook 13 OLED, 13.3-inch (33.78 cms) FH...</td>\n",
       "      <td></td>\n",
       "      <td>79,990</td>\n",
       "    </tr>\n",
       "    <tr>\n",
       "      <th>4</th>\n",
       "      <td>ASUS TUF Gaming F15 (2022), 15.6\" (39.62 cms) ...</td>\n",
       "      <td></td>\n",
       "      <td>1,07,990</td>\n",
       "    </tr>\n",
       "    <tr>\n",
       "      <th>5</th>\n",
       "      <td>ASUS Vivobook S15 OLED (2022), 15.6\" (39.62 cm...</td>\n",
       "      <td></td>\n",
       "      <td>94,990</td>\n",
       "    </tr>\n",
       "    <tr>\n",
       "      <th>6</th>\n",
       "      <td>ASUS TUF Dash F15 (2022), 15.6-inch (39.62 cms...</td>\n",
       "      <td></td>\n",
       "      <td>1,60,999</td>\n",
       "    </tr>\n",
       "    <tr>\n",
       "      <th>7</th>\n",
       "      <td>ASUS TUF Gaming F15 (2022), 15.6-inch (39.62 c...</td>\n",
       "      <td></td>\n",
       "      <td>1,09,990</td>\n",
       "    </tr>\n",
       "    <tr>\n",
       "      <th>8</th>\n",
       "      <td>Lenovo ThinkPad E14 Intel Core i7 11th Gen 14-...</td>\n",
       "      <td></td>\n",
       "      <td>94,990</td>\n",
       "    </tr>\n",
       "    <tr>\n",
       "      <th>9</th>\n",
       "      <td>ASUS VivoBook K15 OLED (2021), 15.6-inch FHD O...</td>\n",
       "      <td></td>\n",
       "      <td>82,990</td>\n",
       "    </tr>\n",
       "  </tbody>\n",
       "</table>\n",
       "</div>"
      ],
      "text/plain": [
       "                                               Title Rating     Price\n",
       "0  Lenovo IdeaPad Slim 5 Intel Core i7 12th Gen 1...           82,990\n",
       "1  Lenovo ThinkBook 15 Intel 11th Gen Core i7 15....           80,990\n",
       "2  Lenovo Yoga 7i 11th Gen Intel Core i7-1165G7 1...         1,06,999\n",
       "3  ASUS Zenbook 13 OLED, 13.3-inch (33.78 cms) FH...           79,990\n",
       "4  ASUS TUF Gaming F15 (2022), 15.6\" (39.62 cms) ...         1,07,990\n",
       "5  ASUS Vivobook S15 OLED (2022), 15.6\" (39.62 cm...           94,990\n",
       "6  ASUS TUF Dash F15 (2022), 15.6-inch (39.62 cms...         1,60,999\n",
       "7  ASUS TUF Gaming F15 (2022), 15.6-inch (39.62 c...         1,09,990\n",
       "8  Lenovo ThinkPad E14 Intel Core i7 11th Gen 14-...           94,990\n",
       "9  ASUS VivoBook K15 OLED (2021), 15.6-inch FHD O...           82,990"
      ]
     },
     "execution_count": 109,
     "metadata": {},
     "output_type": "execute_result"
    }
   ],
   "source": [
    "import pandas as pd\n",
    "df = pd.DataFrame({'Title':Title[:10],'Rating':Rating[:10],'Price':Price[:10]})\n",
    "df"
   ]
  },
  {
   "cell_type": "markdown",
   "id": "e3108acc",
   "metadata": {},
   "source": [
    "# Q.9."
   ]
  },
  {
   "cell_type": "code",
   "execution_count": 143,
   "id": "48ad2a22",
   "metadata": {},
   "outputs": [],
   "source": [
    "from selenium import webdriver\n",
    "from time import sleep"
   ]
  },
  {
   "cell_type": "code",
   "execution_count": 144,
   "id": "b04e9c88",
   "metadata": {},
   "outputs": [],
   "source": [
    "import warnings\n",
    "warnings.filterwarnings('ignore')"
   ]
  },
  {
   "cell_type": "code",
   "execution_count": 145,
   "id": "3532b46f",
   "metadata": {},
   "outputs": [],
   "source": [
    "driver = webdriver.Chrome(r\"C:\\Users\\Swati\\OneDrive\\Desktop\\DataScience\\chromedriver.exe\")"
   ]
  },
  {
   "cell_type": "code",
   "execution_count": 146,
   "id": "f843c928",
   "metadata": {},
   "outputs": [],
   "source": [
    "driver.get(\"https://www.ambitionbox.com/\")"
   ]
  },
  {
   "cell_type": "code",
   "execution_count": 147,
   "id": "ecb12e86",
   "metadata": {},
   "outputs": [],
   "source": [
    "driver.maximize_window()"
   ]
  },
  {
   "cell_type": "code",
   "execution_count": 148,
   "id": "97c8bd65",
   "metadata": {},
   "outputs": [],
   "source": [
    "job = driver.find_element(By.CLASS_NAME,\"navItemLink\")\n",
    "job.click()"
   ]
  },
  {
   "cell_type": "code",
   "execution_count": 149,
   "id": "83b16dcf",
   "metadata": {},
   "outputs": [],
   "source": [
    "input_search = driver.find_element(By.XPATH,'//input[@class=\"input tt-input\"]')\n",
    "search_button = driver.find_element(By.XPATH,'//button[@class=\"ab_btn search-btn round\"]')"
   ]
  },
  {
   "cell_type": "code",
   "execution_count": 173,
   "id": "06bf1422",
   "metadata": {},
   "outputs": [],
   "source": [
    "input_search.send_keys(\"Data Scientist\")\n",
    "time.sleep(1)\n",
    "search_button.click()"
   ]
  },
  {
   "cell_type": "code",
   "execution_count": 176,
   "id": "c5b45c5a",
   "metadata": {},
   "outputs": [],
   "source": [
    "filter_loc = driver.find_element(By.XPATH,'/html/body/div/div/div/div[2]/div[1]/div[2]/div[1]/div/div/div/div[2]/div[1]/p').click()"
   ]
  },
  {
   "cell_type": "code",
   "execution_count": 181,
   "id": "0216d580",
   "metadata": {},
   "outputs": [],
   "source": [
    "search_location = driver.find_element(By.XPATH,'/html/body/div/div/div/div[2]/div[1]/div[2]/h1')"
   ]
  },
  {
   "cell_type": "code",
   "execution_count": 183,
   "id": "4b407345",
   "metadata": {},
   "outputs": [],
   "source": [
    "Company = []\n",
    "Ad_Days = []\n",
    "Company_Rating = []"
   ]
  },
  {
   "cell_type": "code",
   "execution_count": 184,
   "id": "58e39645",
   "metadata": {},
   "outputs": [
    {
     "data": {
      "text/plain": [
       "['4.1', '4.3', '3.8', '4.0', '4.3', '4.0', '4.0', '4.3', '4.3', '3.8']"
      ]
     },
     "execution_count": 184,
     "metadata": {},
     "output_type": "execute_result"
    }
   ],
   "source": [
    "company = driver.find_elements(By.XPATH,'//p[@class=\"company body-medium\"]')\n",
    "for i in company:\n",
    "    Company.append(i.text)\n",
    "Company[:10]\n",
    "\n",
    "ad_days = driver.find_elements(By.XPATH,'//span[@class=\"body-small-l\"]')\n",
    "for i in ad_days:\n",
    "    Ad_Days.append(i.text)\n",
    "Ad_Days[:10]    \n",
    "\n",
    "company_rating = driver.find_elements(By.XPATH,'//span[@class=\"body-small\"]')\n",
    "for i in company_rating:\n",
    "    Company_Rating.append(i.text)\n",
    "Company_Rating[:10]   "
   ]
  },
  {
   "cell_type": "code",
   "execution_count": 185,
   "id": "5ad9c9f3",
   "metadata": {},
   "outputs": [
    {
     "name": "stdout",
     "output_type": "stream",
     "text": [
      "10 10 10\n"
     ]
    }
   ],
   "source": [
    "print(len(Company[:10]),len(Ad_Days[:10]),len(Company_Rating[:10]))"
   ]
  },
  {
   "cell_type": "code",
   "execution_count": 186,
   "id": "37ccebe5",
   "metadata": {},
   "outputs": [],
   "source": [
    "import pandas as pd"
   ]
  },
  {
   "cell_type": "code",
   "execution_count": 187,
   "id": "36406e14",
   "metadata": {},
   "outputs": [
    {
     "data": {
      "text/html": [
       "<div>\n",
       "<style scoped>\n",
       "    .dataframe tbody tr th:only-of-type {\n",
       "        vertical-align: middle;\n",
       "    }\n",
       "\n",
       "    .dataframe tbody tr th {\n",
       "        vertical-align: top;\n",
       "    }\n",
       "\n",
       "    .dataframe thead th {\n",
       "        text-align: right;\n",
       "    }\n",
       "</style>\n",
       "<table border=\"1\" class=\"dataframe\">\n",
       "  <thead>\n",
       "    <tr style=\"text-align: right;\">\n",
       "      <th></th>\n",
       "      <th>Company</th>\n",
       "      <th>Ad_Days</th>\n",
       "      <th>Company_Rating</th>\n",
       "    </tr>\n",
       "  </thead>\n",
       "  <tbody>\n",
       "    <tr>\n",
       "      <th>0</th>\n",
       "      <td>Optum Global Solutions (India) Private Limited</td>\n",
       "      <td>5d ago</td>\n",
       "      <td>4.1</td>\n",
       "    </tr>\n",
       "    <tr>\n",
       "      <th>1</th>\n",
       "      <td>BARCLAYS GLOBAL SERVICE CENTRE PRIVATE LIMITED</td>\n",
       "      <td>via naukri.com</td>\n",
       "      <td>4.3</td>\n",
       "    </tr>\n",
       "    <tr>\n",
       "      <th>2</th>\n",
       "      <td>EY GDS</td>\n",
       "      <td>3d ago</td>\n",
       "      <td>3.8</td>\n",
       "    </tr>\n",
       "    <tr>\n",
       "      <th>3</th>\n",
       "      <td>GLOBALLOGIC INDIA PRIVATE LIMITED</td>\n",
       "      <td>via naukri.com</td>\n",
       "      <td>4.0</td>\n",
       "    </tr>\n",
       "    <tr>\n",
       "      <th>4</th>\n",
       "      <td>CBRE South Asia Pvt Ltd</td>\n",
       "      <td>5d ago</td>\n",
       "      <td>4.3</td>\n",
       "    </tr>\n",
       "    <tr>\n",
       "      <th>5</th>\n",
       "      <td>GENPACT India Private Limited</td>\n",
       "      <td>via iimjobs.com</td>\n",
       "      <td>4.0</td>\n",
       "    </tr>\n",
       "    <tr>\n",
       "      <th>6</th>\n",
       "      <td>Genpact</td>\n",
       "      <td>3d ago</td>\n",
       "      <td>4.0</td>\n",
       "    </tr>\n",
       "    <tr>\n",
       "      <th>7</th>\n",
       "      <td>Ericsson India Global Services Pvt. Ltd.</td>\n",
       "      <td>via naukri.com</td>\n",
       "      <td>4.3</td>\n",
       "    </tr>\n",
       "    <tr>\n",
       "      <th>8</th>\n",
       "      <td>Dew Solutions Pvt. Ltd.</td>\n",
       "      <td>1mon ago</td>\n",
       "      <td>4.3</td>\n",
       "    </tr>\n",
       "    <tr>\n",
       "      <th>9</th>\n",
       "      <td>One97 Communications Limited</td>\n",
       "      <td>via naukri.com</td>\n",
       "      <td>3.8</td>\n",
       "    </tr>\n",
       "  </tbody>\n",
       "</table>\n",
       "</div>"
      ],
      "text/plain": [
       "                                          Company          Ad_Days  \\\n",
       "0  Optum Global Solutions (India) Private Limited           5d ago   \n",
       "1  BARCLAYS GLOBAL SERVICE CENTRE PRIVATE LIMITED   via naukri.com   \n",
       "2                                          EY GDS           3d ago   \n",
       "3               GLOBALLOGIC INDIA PRIVATE LIMITED   via naukri.com   \n",
       "4                         CBRE South Asia Pvt Ltd           5d ago   \n",
       "5                   GENPACT India Private Limited  via iimjobs.com   \n",
       "6                                         Genpact           3d ago   \n",
       "7        Ericsson India Global Services Pvt. Ltd.   via naukri.com   \n",
       "8                         Dew Solutions Pvt. Ltd.         1mon ago   \n",
       "9                    One97 Communications Limited   via naukri.com   \n",
       "\n",
       "  Company_Rating  \n",
       "0            4.1  \n",
       "1            4.3  \n",
       "2            3.8  \n",
       "3            4.0  \n",
       "4            4.3  \n",
       "5            4.0  \n",
       "6            4.0  \n",
       "7            4.3  \n",
       "8            4.3  \n",
       "9            3.8  "
      ]
     },
     "execution_count": 187,
     "metadata": {},
     "output_type": "execute_result"
    }
   ],
   "source": [
    "df = pd.DataFrame({'Company':Company[:10],'Ad_Days':Ad_Days[:10],'Company_Rating':Company_Rating[:10]})\n",
    "df"
   ]
  },
  {
   "cell_type": "markdown",
   "id": "299ba221",
   "metadata": {},
   "source": [
    "# Q.10"
   ]
  },
  {
   "cell_type": "code",
   "execution_count": 208,
   "id": "cea43f2b",
   "metadata": {},
   "outputs": [],
   "source": [
    "from selenium import webdriver\n",
    "from time import sleep"
   ]
  },
  {
   "cell_type": "code",
   "execution_count": 8,
   "id": "3d25865b",
   "metadata": {},
   "outputs": [],
   "source": [
    "driver = webdriver.Chrome(r\"C:\\Users\\Swati\\OneDrive\\Desktop\\DataScience\\chromedriver.exe\")"
   ]
  },
  {
   "cell_type": "code",
   "execution_count": 9,
   "id": "2708db79",
   "metadata": {},
   "outputs": [],
   "source": [
    "driver.get(\"https://www.ambitionbox.com/\")"
   ]
  },
  {
   "cell_type": "code",
   "execution_count": 10,
   "id": "785b743a",
   "metadata": {},
   "outputs": [],
   "source": [
    "driver.maximize_window()"
   ]
  },
  {
   "cell_type": "code",
   "execution_count": 11,
   "id": "8383530f",
   "metadata": {},
   "outputs": [],
   "source": [
    "salary = driver.find_element(By.XPATH,'/html/body/div/div/div/div[1]/header/nav/ul/li[3]/span')\n",
    "salary.click()    "
   ]
  },
  {
   "cell_type": "code",
   "execution_count": 12,
   "id": "66d6f0dc",
   "metadata": {},
   "outputs": [],
   "source": [
    "salary_discover = driver.find_element(By.XPATH,'/html/body/div/div/div/div[1]/header/nav/ul/li[3]/div/ul/li[1]/div/div[2]/a').click()"
   ]
  },
  {
   "cell_type": "code",
   "execution_count": 13,
   "id": "9f7e9d58",
   "metadata": {},
   "outputs": [],
   "source": [
    "designation= driver.find_element(By.XPATH,'//input[@class=\"tt-input\"]')"
   ]
  },
  {
   "cell_type": "code",
   "execution_count": 14,
   "id": "ef07875c",
   "metadata": {},
   "outputs": [],
   "source": [
    "designation.send_keys(\"Data Scientist\")"
   ]
  },
  {
   "cell_type": "code",
   "execution_count": 15,
   "id": "a8e08346",
   "metadata": {},
   "outputs": [],
   "source": [
    "job_role = driver.find_element(By.XPATH,'/html/body/div/div/div/main/section[1]/div[2]/div[1]/span/input')"
   ]
  },
  {
   "cell_type": "code",
   "execution_count": 16,
   "id": "ac33955c",
   "metadata": {},
   "outputs": [],
   "source": [
    "Company = []\n",
    "Salary_Record = []\n",
    "Avg_Salary = []\n",
    "Min_Salary = []\n",
    "Max_Sal = []\n",
    "Exp_Required = []"
   ]
  },
  {
   "cell_type": "code",
   "execution_count": 19,
   "id": "dba56ae6",
   "metadata": {},
   "outputs": [
    {
     "data": {
      "text/plain": [
       "['₹ 12.7L',\n",
       " '₹ 97.0L',\n",
       " '₹ 13.2L',\n",
       " '₹ 50.0L',\n",
       " '₹ 12.0L',\n",
       " '₹ 34.0L',\n",
       " '₹ 5.0L',\n",
       " '₹ 38.0L',\n",
       " '₹ 11.7L',\n",
       " '₹ 38.0L']"
      ]
     },
     "execution_count": 19,
     "metadata": {},
     "output_type": "execute_result"
    }
   ],
   "source": [
    "company = driver.find_elements(By.XPATH,'//div[@class=\"company-info\"]')\n",
    "for i in company:\n",
    "    Company.append(i.text)\n",
    "Company[:10]\n",
    "\n",
    "salary_record = driver.find_elements(By.XPATH,'//span[@class=\"datapoints\"]')\n",
    "for i in salary_record:\n",
    "    Salary_Record.append(i.text)\n",
    "Salary_Record[:10]\n",
    "\n",
    "avg_salary = driver.find_elements(By.XPATH,'//p[@class=\"averageCtc\"]')\n",
    "for i in avg_salary:\n",
    "    Avg_Salary.append(i.text)\n",
    "Avg_Salary[:10]\n",
    "\n",
    "min_Salary = driver.find_elements(By.XPATH,'//div[@class=\"value body-medium\"]')\n",
    "for i in min_Salary:\n",
    "    Min_Salary.append(i.text)\n",
    "Min_Salary[:10]\n",
    "\n",
    "max_Sal = driver.find_elements(By.XPATH,'//div[@class=\"value body-medium\"]')\n",
    "for i in max_Sal:\n",
    "    Max_Sal.append(i.text)\n",
    "Max_Sal[:10]\n",
    "\n",
    "\n"
   ]
  },
  {
   "cell_type": "code",
   "execution_count": 278,
   "id": "78c9106f",
   "metadata": {},
   "outputs": [
    {
     "name": "stdout",
     "output_type": "stream",
     "text": [
      "10 10 10 10 10\n"
     ]
    }
   ],
   "source": [
    "print(len(Company[:10]),len(Salary_Record[:10]),len(Avg_Salary[:10]),len(Min_Salary[:10]),len(Max_Sal[:10]))"
   ]
  },
  {
   "cell_type": "code",
   "execution_count": 279,
   "id": "2972c64e",
   "metadata": {},
   "outputs": [],
   "source": [
    "import pandas as pd"
   ]
  },
  {
   "cell_type": "code",
   "execution_count": 18,
   "id": "a1f86dbb",
   "metadata": {},
   "outputs": [
    {
     "data": {
      "text/html": [
       "<div>\n",
       "<style scoped>\n",
       "    .dataframe tbody tr th:only-of-type {\n",
       "        vertical-align: middle;\n",
       "    }\n",
       "\n",
       "    .dataframe tbody tr th {\n",
       "        vertical-align: top;\n",
       "    }\n",
       "\n",
       "    .dataframe thead th {\n",
       "        text-align: right;\n",
       "    }\n",
       "</style>\n",
       "<table border=\"1\" class=\"dataframe\">\n",
       "  <thead>\n",
       "    <tr style=\"text-align: right;\">\n",
       "      <th></th>\n",
       "      <th>Company</th>\n",
       "      <th>Salary_Record</th>\n",
       "      <th>Avg_Salary</th>\n",
       "      <th>Min_Salary</th>\n",
       "      <th>Max_Sal</th>\n",
       "    </tr>\n",
       "  </thead>\n",
       "  <tbody>\n",
       "    <tr>\n",
       "      <th>0</th>\n",
       "      <td>Google\\nSoftware Engineer Salary\\n1-4 yrs expe...</td>\n",
       "      <td>(based on 58 salaries)</td>\n",
       "      <td>₹ 35.5L</td>\n",
       "      <td>₹ 12.7L</td>\n",
       "      <td>₹ 12.7L</td>\n",
       "    </tr>\n",
       "    <tr>\n",
       "      <th>1</th>\n",
       "      <td>Microsoft Corporation\\nSoftware Engineer Salar...</td>\n",
       "      <td>(based on 338 salaries)</td>\n",
       "      <td>₹ 23.8L</td>\n",
       "      <td>₹ 97.0L</td>\n",
       "      <td>₹ 97.0L</td>\n",
       "    </tr>\n",
       "    <tr>\n",
       "      <th>2</th>\n",
       "      <td>Goldman Sachs\\nSoftware Engineer Salary\\n1-2 y...</td>\n",
       "      <td>(based on 36 salaries)</td>\n",
       "      <td>₹ 22.9L</td>\n",
       "      <td>₹ 13.2L</td>\n",
       "      <td>₹ 13.2L</td>\n",
       "    </tr>\n",
       "    <tr>\n",
       "      <th>3</th>\n",
       "      <td>Arista Networks\\nSoftware Engineer Salary\\n1-4...</td>\n",
       "      <td>(based on 51 salaries)</td>\n",
       "      <td>₹ 22.3L</td>\n",
       "      <td>₹ 50.0L</td>\n",
       "      <td>₹ 50.0L</td>\n",
       "    </tr>\n",
       "    <tr>\n",
       "      <th>4</th>\n",
       "      <td>Tekion\\nSoftware Engineer Salary\\n2-4 yrs expe...</td>\n",
       "      <td>(based on 50 salaries)</td>\n",
       "      <td>₹ 21.9L</td>\n",
       "      <td>₹ 12.0L</td>\n",
       "      <td>₹ 12.0L</td>\n",
       "    </tr>\n",
       "    <tr>\n",
       "      <th>5</th>\n",
       "      <td>Amazon\\nSoftware Engineer Salary\\n1-4 yrs expe...</td>\n",
       "      <td>(based on 140 salaries)</td>\n",
       "      <td>₹ 21.2L</td>\n",
       "      <td>₹ 34.0L</td>\n",
       "      <td>₹ 34.0L</td>\n",
       "    </tr>\n",
       "    <tr>\n",
       "      <th>6</th>\n",
       "      <td>Servicenow Software Development India\\nSoftwar...</td>\n",
       "      <td>(based on 79 salaries)</td>\n",
       "      <td>₹ 21.1L</td>\n",
       "      <td>₹ 5.0L</td>\n",
       "      <td>₹ 5.0L</td>\n",
       "    </tr>\n",
       "    <tr>\n",
       "      <th>7</th>\n",
       "      <td>Walmart\\nSoftware Engineer Salary\\n1-4 yrs exp...</td>\n",
       "      <td>(based on 110 salaries)</td>\n",
       "      <td>₹ 20.2L</td>\n",
       "      <td>₹ 38.0L</td>\n",
       "      <td>₹ 38.0L</td>\n",
       "    </tr>\n",
       "    <tr>\n",
       "      <th>8</th>\n",
       "      <td>PayPal\\nSoftware Engineer Salary\\n1-2 yrs expe...</td>\n",
       "      <td>(based on 29 salaries)</td>\n",
       "      <td>₹ 19.6L</td>\n",
       "      <td>₹ 11.7L</td>\n",
       "      <td>₹ 11.7L</td>\n",
       "    </tr>\n",
       "    <tr>\n",
       "      <th>9</th>\n",
       "      <td>Arcesium\\nSoftware Engineer Salary\\n1-2 yrs ex...</td>\n",
       "      <td>(based on 69 salaries)</td>\n",
       "      <td>₹ 19.5L</td>\n",
       "      <td>₹ 38.0L</td>\n",
       "      <td>₹ 38.0L</td>\n",
       "    </tr>\n",
       "  </tbody>\n",
       "</table>\n",
       "</div>"
      ],
      "text/plain": [
       "                                             Company            Salary_Record  \\\n",
       "0  Google\\nSoftware Engineer Salary\\n1-4 yrs expe...   (based on 58 salaries)   \n",
       "1  Microsoft Corporation\\nSoftware Engineer Salar...  (based on 338 salaries)   \n",
       "2  Goldman Sachs\\nSoftware Engineer Salary\\n1-2 y...   (based on 36 salaries)   \n",
       "3  Arista Networks\\nSoftware Engineer Salary\\n1-4...   (based on 51 salaries)   \n",
       "4  Tekion\\nSoftware Engineer Salary\\n2-4 yrs expe...   (based on 50 salaries)   \n",
       "5  Amazon\\nSoftware Engineer Salary\\n1-4 yrs expe...  (based on 140 salaries)   \n",
       "6  Servicenow Software Development India\\nSoftwar...   (based on 79 salaries)   \n",
       "7  Walmart\\nSoftware Engineer Salary\\n1-4 yrs exp...  (based on 110 salaries)   \n",
       "8  PayPal\\nSoftware Engineer Salary\\n1-2 yrs expe...   (based on 29 salaries)   \n",
       "9  Arcesium\\nSoftware Engineer Salary\\n1-2 yrs ex...   (based on 69 salaries)   \n",
       "\n",
       "  Avg_Salary Min_Salary  Max_Sal  \n",
       "0    ₹ 35.5L    ₹ 12.7L  ₹ 12.7L  \n",
       "1    ₹ 23.8L    ₹ 97.0L  ₹ 97.0L  \n",
       "2    ₹ 22.9L    ₹ 13.2L  ₹ 13.2L  \n",
       "3    ₹ 22.3L    ₹ 50.0L  ₹ 50.0L  \n",
       "4    ₹ 21.9L    ₹ 12.0L  ₹ 12.0L  \n",
       "5    ₹ 21.2L    ₹ 34.0L  ₹ 34.0L  \n",
       "6    ₹ 21.1L     ₹ 5.0L   ₹ 5.0L  \n",
       "7    ₹ 20.2L    ₹ 38.0L  ₹ 38.0L  \n",
       "8    ₹ 19.6L    ₹ 11.7L  ₹ 11.7L  \n",
       "9    ₹ 19.5L    ₹ 38.0L  ₹ 38.0L  "
      ]
     },
     "execution_count": 18,
     "metadata": {},
     "output_type": "execute_result"
    }
   ],
   "source": [
    "df = pd.DataFrame({'Company':Company[:10],'Salary_Record':Salary_Record[:10],'Avg_Salary':Avg_Salary[:10],'Min_Salary':Min_Salary[:10],'Max_Sal':Max_Sal[:10]})\n",
    "df"
   ]
  },
  {
   "cell_type": "code",
   "execution_count": null,
   "id": "0f02df1d",
   "metadata": {},
   "outputs": [],
   "source": []
  }
 ],
 "metadata": {
  "kernelspec": {
   "display_name": "Python 3 (ipykernel)",
   "language": "python",
   "name": "python3"
  },
  "language_info": {
   "codemirror_mode": {
    "name": "ipython",
    "version": 3
   },
   "file_extension": ".py",
   "mimetype": "text/x-python",
   "name": "python",
   "nbconvert_exporter": "python",
   "pygments_lexer": "ipython3",
   "version": "3.9.12"
  }
 },
 "nbformat": 4,
 "nbformat_minor": 5
}
